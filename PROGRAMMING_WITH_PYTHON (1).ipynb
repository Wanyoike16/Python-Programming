{
  "nbformat": 4,
  "nbformat_minor": 0,
  "metadata": {
    "colab": {
      "provenance": []
    },
    "kernelspec": {
      "name": "python3",
      "display_name": "Python 3"
    },
    "language_info": {
      "name": "python"
    }
  },
  "cells": [
    {
      "cell_type": "markdown",
      "source": [
        "FUNCTIONS AND VARAIBLES"
      ],
      "metadata": {
        "id": "1_s3z-3hnVht"
      }
    },
    {
      "cell_type": "code",
      "source": [
        "# ask user for their name\n",
        "name = input(\"What's your name?\").strip().title()\n",
        "\n",
        "\n",
        "# Say hello to user\n",
        "print(f\"hello, {name}\")\n"
      ],
      "metadata": {
        "colab": {
          "base_uri": "https://localhost:8080/"
        },
        "id": "lSDeARUBqRIo",
        "outputId": "770c8b3a-fba5-4236-d0e8-a56c5e8c7aab"
      },
      "execution_count": null,
      "outputs": [
        {
          "output_type": "stream",
          "name": "stdout",
          "text": [
            "What's your name?     joseph kamau   \n",
            "hello, Joseph Kamau\n"
          ]
        }
      ]
    },
    {
      "cell_type": "code",
      "execution_count": null,
      "metadata": {
        "colab": {
          "base_uri": "https://localhost:8080/"
        },
        "id": "R7DyxFobnLaq",
        "outputId": "d0c400fe-6921-489d-d927-2282711f277a"
      },
      "outputs": [
        {
          "output_type": "stream",
          "name": "stdout",
          "text": [
            "hello, name\n"
          ]
        }
      ],
      "source": [
        "print(\"hello, name\")"
      ]
    },
    {
      "cell_type": "markdown",
      "source": [
        "Calculator"
      ],
      "metadata": {
        "id": "p-0d7z0ZnU0C"
      }
    },
    {
      "cell_type": "code",
      "source": [
        "x= 1\n",
        "y=2\n",
        "z= x+y\n",
        "print(z)\n",
        "\n"
      ],
      "metadata": {
        "colab": {
          "base_uri": "https://localhost:8080/"
        },
        "id": "vaxxo2CNeT3e",
        "outputId": "45fb225f-f834-4b28-e5fa-7287e82d1086"
      },
      "execution_count": null,
      "outputs": [
        {
          "output_type": "stream",
          "name": "stdout",
          "text": [
            "3\n"
          ]
        }
      ]
    },
    {
      "cell_type": "code",
      "source": [
        "x= input( \"What's x?\")\n",
        "y= input(\"What's y?\")\n",
        "z= int(x)+int(y)\n",
        "print(z)\n"
      ],
      "metadata": {
        "colab": {
          "base_uri": "https://localhost:8080/"
        },
        "id": "jA5wgACTeo35",
        "outputId": "1dbffdef-1b64-4e08-d1dd-ea6020c9b6a9"
      },
      "execution_count": null,
      "outputs": [
        {
          "output_type": "stream",
          "name": "stdout",
          "text": [
            "What's x?3\n",
            "What's y?3\n",
            "6\n"
          ]
        }
      ]
    },
    {
      "cell_type": "code",
      "source": [
        "\n",
        "x= int(input( \"What's x?\"))\n",
        "y= int(input(\"What's y?\"))\n",
        "print(x + y)"
      ],
      "metadata": {
        "colab": {
          "base_uri": "https://localhost:8080/"
        },
        "id": "RssAlNYlfK8q",
        "outputId": "3e94e41b-3045-41e7-bbc2-32d5210244b1"
      },
      "execution_count": null,
      "outputs": [
        {
          "output_type": "stream",
          "name": "stdout",
          "text": [
            "What's x?4\n",
            "What's y?5\n",
            "9\n"
          ]
        }
      ]
    },
    {
      "cell_type": "code",
      "source": [
        "x= float(input( \"What's x?\"))\n",
        "y= float(input(\"What's y?\"))\n",
        "print(x + y)"
      ],
      "metadata": {
        "colab": {
          "base_uri": "https://localhost:8080/"
        },
        "id": "yOj_ggCOgQpC",
        "outputId": "189481a5-53cc-47fa-8667-7023df09f373"
      },
      "execution_count": null,
      "outputs": [
        {
          "output_type": "stream",
          "name": "stdout",
          "text": [
            "What's x?4\n",
            "What's y?3\n",
            "7.0\n"
          ]
        }
      ]
    },
    {
      "cell_type": "code",
      "source": [
        "x= float(input( \"What's x?\"))\n",
        "y= float(input(\"What's y?\"))\n",
        "z= round(x+y)\n",
        "print(z)"
      ],
      "metadata": {
        "colab": {
          "base_uri": "https://localhost:8080/"
        },
        "id": "93FBmdiehk7T",
        "outputId": "39a5bf6a-4f02-4a42-a47b-b95284af5f44"
      },
      "execution_count": null,
      "outputs": [
        {
          "output_type": "stream",
          "name": "stdout",
          "text": [
            "What's x?999\n",
            "What's y?1\n",
            "1000\n"
          ]
        }
      ]
    },
    {
      "cell_type": "code",
      "source": [
        "x= float(input( \"What's x?\"))\n",
        "y= float(input(\"What's y?\"))\n",
        "z= round(x+y)\n",
        "print(f\"{z:,}\")"
      ],
      "metadata": {
        "colab": {
          "base_uri": "https://localhost:8080/"
        },
        "id": "1iZFsGRlimXY",
        "outputId": "f83addc8-7e2c-415c-e3ea-98533991f819"
      },
      "execution_count": null,
      "outputs": [
        {
          "output_type": "stream",
          "name": "stdout",
          "text": [
            "What's x?999\n",
            "What's y?1\n",
            "1,000\n"
          ]
        }
      ]
    },
    {
      "cell_type": "code",
      "source": [
        "x= float(input( \"What's x?\"))\n",
        "y= float(input(\"What's y?\"))\n",
        "z= round(x / y, 2)\n",
        "print(z)"
      ],
      "metadata": {
        "colab": {
          "base_uri": "https://localhost:8080/"
        },
        "id": "Ct_GKC1djIY4",
        "outputId": "5ca33d4d-91ff-4afb-983b-0a85820e0787"
      },
      "execution_count": null,
      "outputs": [
        {
          "output_type": "stream",
          "name": "stdout",
          "text": [
            "What's x?2\n",
            "What's y?3\n",
            "0.67\n"
          ]
        }
      ]
    },
    {
      "cell_type": "code",
      "source": [
        "x= float(input( \"What's x?\"))\n",
        "y= float(input(\"What's y?\"))\n",
        "z= (x / y)\n",
        "print(f\"{z:.2f}\")"
      ],
      "metadata": {
        "colab": {
          "base_uri": "https://localhost:8080/"
        },
        "id": "vg1gJu51jkJ-",
        "outputId": "955721bf-ef15-44cb-c9bc-0ec1de2f6689"
      },
      "execution_count": null,
      "outputs": [
        {
          "output_type": "stream",
          "name": "stdout",
          "text": [
            "What's x?2\n",
            "What's y?3\n",
            "0.67\n"
          ]
        }
      ]
    },
    {
      "cell_type": "markdown",
      "source": [
        "def"
      ],
      "metadata": {
        "id": "wfv2gQqdkaNL"
      }
    },
    {
      "cell_type": "code",
      "source": [
        "# ask user for their name\n",
        "def hello(to=\"world\"):\n",
        "    print(\"hello,\", to)\n",
        "\n",
        "hello()\n",
        "name = input(\"What's your name?\")\n",
        "hello(name)\n"
      ],
      "metadata": {
        "colab": {
          "base_uri": "https://localhost:8080/"
        },
        "id": "2edqsWaTkJkl",
        "outputId": "1bdf8fd3-be46-44f4-875d-a01e9db89a7d"
      },
      "execution_count": null,
      "outputs": [
        {
          "output_type": "stream",
          "name": "stdout",
          "text": [
            "hello, world\n",
            "What's your name?David\n",
            "hello, David\n"
          ]
        }
      ]
    },
    {
      "cell_type": "code",
      "source": [
        "def main():\n",
        "  x = int(input(\"what's x?\"))\n",
        "  print(\"x squared is\" , square(x))\n",
        "\n",
        "def square(n):\n",
        "    return n * n\n",
        "\n",
        "main()"
      ],
      "metadata": {
        "colab": {
          "base_uri": "https://localhost:8080/"
        },
        "id": "m2hrOFCdkqRK",
        "outputId": "a40c146b-bc5f-4387-8e80-c027036d269e"
      },
      "execution_count": null,
      "outputs": [
        {
          "output_type": "stream",
          "name": "stdout",
          "text": [
            "what's x?5\n",
            "x squared is 25\n"
          ]
        }
      ]
    },
    {
      "cell_type": "markdown",
      "source": [
        "Conditionals"
      ],
      "metadata": {
        "id": "Q0BdKaEOWbF1"
      }
    },
    {
      "cell_type": "code",
      "source": [
        "x = int(input(\"What's x?\"))\n",
        "y = int(input(\"What's y?\"))\n",
        "#if\n",
        "\n",
        "if x < y:\n",
        "    print (\"x is less that y\")\n",
        "if x > y:\n",
        "    print(\"x is greater that y\")\n",
        "if x==y:\n",
        "    print( \"x is equal to y\")\n"
      ],
      "metadata": {
        "id": "xyvgGg28o3ep",
        "colab": {
          "base_uri": "https://localhost:8080/"
        },
        "outputId": "7ea03648-2a5e-449b-fc4c-12bd691bf208"
      },
      "execution_count": null,
      "outputs": [
        {
          "output_type": "stream",
          "name": "stdout",
          "text": [
            "What's x?3\n",
            "What's y?3\n",
            "x is equal to y\n"
          ]
        }
      ]
    },
    {
      "cell_type": "code",
      "source": [
        "#elif\n",
        "x = int(input(\"What's x?\"))\n",
        "y = int(input(\"What's y?\"))\n",
        "\n",
        "if x < y:\n",
        "    print (\"x is less that y\")\n",
        "elif x > y:\n",
        "    print(\"x is greater that y\")\n",
        "elif x==y:\n",
        "    print( \"x is equal to y\")"
      ],
      "metadata": {
        "colab": {
          "base_uri": "https://localhost:8080/"
        },
        "id": "5M_kbgS1Xk98",
        "outputId": "10ba53d9-9d9b-49ca-e3a1-b9901329b6c8"
      },
      "execution_count": null,
      "outputs": [
        {
          "output_type": "stream",
          "name": "stdout",
          "text": [
            "What's x?1\n",
            "What's y?2\n",
            "x is less that y\n"
          ]
        }
      ]
    },
    {
      "cell_type": "code",
      "source": [
        "#else\n",
        "x = int(input(\"What's x?\"))\n",
        "y = int(input(\"What's y?\"))\n",
        "\n",
        "if x < y or x > y > y or x==y:\n",
        "    print(\"x is not equal y\")\n",
        "else:\n",
        "    print(\"x is equal to y\")\n"
      ],
      "metadata": {
        "colab": {
          "base_uri": "https://localhost:8080/"
        },
        "id": "tO0VzzaeY-6D",
        "outputId": "8ffa90ec-b822-42aa-a3a8-56b0ae460a69"
      },
      "execution_count": null,
      "outputs": [
        {
          "output_type": "stream",
          "name": "stdout",
          "text": [
            "What's x?1\n",
            "What's y?1\n",
            "x is not equal y\n"
          ]
        }
      ]
    },
    {
      "cell_type": "code",
      "source": [
        "x = int(input(\"What's x?\"))\n",
        "y = int(input(\"What's y?\"))\n",
        "\n",
        "if x!= y:\n",
        "    print(\"x is not equal y\")\n",
        "else:\n",
        "    print(\"x is equal to y\")"
      ],
      "metadata": {
        "colab": {
          "base_uri": "https://localhost:8080/"
        },
        "id": "ln5Rx3k9cYCH",
        "outputId": "a54aa069-1b48-45a3-fcad-5161fce87c61"
      },
      "execution_count": null,
      "outputs": [
        {
          "output_type": "stream",
          "name": "stdout",
          "text": [
            "What's x?1\n",
            "What's y?1\n",
            "x is equal to y\n"
          ]
        }
      ]
    },
    {
      "cell_type": "code",
      "source": [
        "#and\n",
        "score = int(input(\"Score: \"))\n",
        "\n",
        "if score <= 90 and score <= 100:\n",
        "    print (\"Grade: A\")\n",
        "elif score <= 80 and score <90:\n",
        "    print(\"Grade: B\")\n",
        "elif score <=70 and score < 80:\n",
        "    print(\"Grade: C\")\n",
        "elif score <= 60 and score < 70:\n",
        "    print(\"Grade: D\")\n",
        "else:\n",
        "    print(\"Grade: F\")\n"
      ],
      "metadata": {
        "colab": {
          "base_uri": "https://localhost:8080/"
        },
        "id": "jPtibTFGfRZ0",
        "outputId": "4c5e1682-34b3-4657-c281-144199f00116"
      },
      "execution_count": null,
      "outputs": [
        {
          "output_type": "stream",
          "name": "stdout",
          "text": [
            "Score: 0\n",
            "Grade: F\n"
          ]
        }
      ]
    },
    {
      "cell_type": "code",
      "source": [
        "score = int(input(\"Score: \"))\n",
        "\n",
        "if score >=90:\n",
        "    print (\"Grade: A\")\n",
        "elif score >=80:\n",
        "    print(\"Grade: B\")\n",
        "elif score >=70:\n",
        "    print(\"Grade: C\")\n",
        "elif score >60:\n",
        "    print(\"Grade: D\")\n",
        "else:\n",
        "    print(\"Grade: F\")"
      ],
      "metadata": {
        "colab": {
          "base_uri": "https://localhost:8080/"
        },
        "id": "pgefD9twhdUv",
        "outputId": "9ae11b25-5a63-40d0-a4a3-70b2224971db"
      },
      "execution_count": null,
      "outputs": [
        {
          "output_type": "stream",
          "name": "stdout",
          "text": [
            "Score: 70\n",
            "Grade: C\n"
          ]
        }
      ]
    },
    {
      "cell_type": "code",
      "source": [
        "x = int(input(\"What's x?\"))\n",
        "\n",
        "if x% 2 == 0:\n",
        "    print(\"Even\")\n",
        "else:\n",
        "    print(\"Odd\")\n",
        "\n"
      ],
      "metadata": {
        "colab": {
          "base_uri": "https://localhost:8080/"
        },
        "id": "I1N3_KbTlYGf",
        "outputId": "0ba5ad9e-d87c-41a3-9bf5-9bf058783743"
      },
      "execution_count": null,
      "outputs": [
        {
          "output_type": "stream",
          "name": "stdout",
          "text": [
            "What's x?8\n",
            "Even\n"
          ]
        }
      ]
    },
    {
      "cell_type": "code",
      "source": [
        "def main():\n",
        "    x = int(input(\"What's x?\"))\n",
        "    if is_even(x):\n",
        "      print(\"Even\")\n",
        "    else:\n",
        "        print(\"Odd\")\n",
        "\n",
        "\n",
        "def is_even(n):\n",
        "    if n % 2 ==0 :\n",
        "       return True\n",
        "    else:\n",
        "      return False\n",
        "\n",
        "main()"
      ],
      "metadata": {
        "colab": {
          "base_uri": "https://localhost:8080/"
        },
        "id": "wyrm2nQqo7Sp",
        "outputId": "4cff5b4c-668b-4da0-e7f4-30f2f8023466"
      },
      "execution_count": null,
      "outputs": [
        {
          "output_type": "stream",
          "name": "stdout",
          "text": [
            "What's x?6\n",
            "Even\n"
          ]
        }
      ]
    },
    {
      "cell_type": "code",
      "source": [
        "def main():\n",
        "    x = int(input(\"What's x?\"))\n",
        "    if is_even(x):\n",
        "      print(\"Even\")\n",
        "    else:\n",
        "        print(\"Odd\")\n",
        "\n",
        "\n",
        "def is_even(n):\n",
        "    return (n % 2 == 0)\n",
        "\n",
        "main()"
      ],
      "metadata": {
        "colab": {
          "base_uri": "https://localhost:8080/"
        },
        "id": "ffHfOp87pyEk",
        "outputId": "1e08af8e-c904-42c6-a4bc-783478f3dae3"
      },
      "execution_count": null,
      "outputs": [
        {
          "output_type": "stream",
          "name": "stdout",
          "text": [
            "What's x?10\n",
            "Even\n"
          ]
        }
      ]
    },
    {
      "cell_type": "code",
      "source": [
        "#Match\n",
        "\n",
        "name = input(\"What's your name?\")\n",
        "\n",
        "if name == \"Haryy\" or name == \"Hermione\" or name == \"Ron\":\n",
        "    print(\"Gryffidor\")\n",
        "\n",
        "elif name== \"Draco\":\n",
        "  print(\"Slytherin\")\n",
        "else:\n",
        "  print(\"Who?\")"
      ],
      "metadata": {
        "colab": {
          "base_uri": "https://localhost:8080/"
        },
        "id": "p0-ZXRA1rBmy",
        "outputId": "78134b19-8f90-419e-9721-8152c7c8391c"
      },
      "execution_count": null,
      "outputs": [
        {
          "output_type": "stream",
          "name": "stdout",
          "text": [
            "What's your name?Ruth\n",
            "Who?\n"
          ]
        }
      ]
    },
    {
      "cell_type": "code",
      "source": [
        "name = input(\"What's your name?\")\n",
        "\n",
        "match name:\n",
        "    case \"Haryy\":\n",
        "        print(\"Gryffidor\")\n",
        "    case \"Hermione\":\n",
        "        print(\"Gryffidor\")\n",
        "    case \"Ron\":\n",
        "        print(\"Gryffidor\")\n",
        "    case \"Draco\":\n",
        "        print(\"Slytherin\")\n",
        "    case _:\n",
        "        print(\"Who?\")"
      ],
      "metadata": {
        "colab": {
          "base_uri": "https://localhost:8080/"
        },
        "id": "h38RgRbmsdM_",
        "outputId": "a257e442-ad34-482c-8f89-f83f0f7d5389"
      },
      "execution_count": null,
      "outputs": [
        {
          "output_type": "stream",
          "name": "stdout",
          "text": [
            "What's your name?Harry\n",
            "Who?\n"
          ]
        }
      ]
    },
    {
      "cell_type": "code",
      "source": [
        "name = input(\"What's your name?\")\n",
        "\n",
        "match name:\n",
        "    case \"Haryy\" | \"Hermione\" | \"Ron\":\n",
        "        print(\"Gryffidor\")\n",
        "    case \"Draco\":\n",
        "        print(\"Slytherin\")\n",
        "    case _:\n",
        "        print(\"Who?\")"
      ],
      "metadata": {
        "colab": {
          "base_uri": "https://localhost:8080/"
        },
        "id": "hUjeis94tsGh",
        "outputId": "0952ccef-c745-435c-a85c-bac5f1e2b6dc"
      },
      "execution_count": null,
      "outputs": [
        {
          "output_type": "stream",
          "name": "stdout",
          "text": [
            "What's your name?Ron\n",
            "Gryffidor\n"
          ]
        }
      ]
    },
    {
      "cell_type": "markdown",
      "source": [
        "Loops"
      ],
      "metadata": {
        "id": "kZKYwfdhMRbH"
      }
    },
    {
      "cell_type": "code",
      "source": [
        "print(\"meaow\")\n",
        "print(\"meaow\")\n",
        "print(\"meaow\")"
      ],
      "metadata": {
        "id": "rhLhKOO6uNI0",
        "colab": {
          "base_uri": "https://localhost:8080/"
        },
        "outputId": "28eb2c2c-bd56-4182-bfa9-f7e79c5b613d"
      },
      "execution_count": null,
      "outputs": [
        {
          "output_type": "stream",
          "name": "stdout",
          "text": [
            "meaow\n",
            "meaow\n",
            "meaow\n"
          ]
        }
      ]
    },
    {
      "cell_type": "code",
      "source": [
        "i = 3\n",
        "while i != 0:\n",
        "    print(\"meaow\")\n",
        "    i = i - 1"
      ],
      "metadata": {
        "colab": {
          "base_uri": "https://localhost:8080/"
        },
        "id": "gt9Jypb0MaUa",
        "outputId": "d58ca0fc-d5ae-42f2-d98d-b7e5da2a0a72"
      },
      "execution_count": null,
      "outputs": [
        {
          "output_type": "stream",
          "name": "stdout",
          "text": [
            "meaow\n",
            "meaow\n",
            "meaow\n"
          ]
        }
      ]
    },
    {
      "cell_type": "code",
      "source": [
        "i = 1\n",
        "while i <= 3:\n",
        "    print(\"meaow\")\n",
        "    i = i + 1"
      ],
      "metadata": {
        "colab": {
          "base_uri": "https://localhost:8080/"
        },
        "id": "57K-KlhZNVS2",
        "outputId": "36552092-fc6c-4c28-d11c-61b420a6033a"
      },
      "execution_count": null,
      "outputs": [
        {
          "output_type": "stream",
          "name": "stdout",
          "text": [
            "meaow\n",
            "meaow\n",
            "meaow\n"
          ]
        }
      ]
    },
    {
      "cell_type": "code",
      "source": [
        "i = 0\n",
        "while i < 3:\n",
        "    print(\"meaow\")\n",
        "    i += 1"
      ],
      "metadata": {
        "colab": {
          "base_uri": "https://localhost:8080/"
        },
        "id": "6Na6oF_-Okvy",
        "outputId": "c5503076-9c8e-4e8b-d04b-157845f9335d"
      },
      "execution_count": null,
      "outputs": [
        {
          "output_type": "stream",
          "name": "stdout",
          "text": [
            "meaow\n",
            "meaow\n",
            "meaow\n"
          ]
        }
      ]
    },
    {
      "cell_type": "code",
      "source": [
        "for i in [0, 1, 2]:\n",
        "    print(\"meaow\")"
      ],
      "metadata": {
        "colab": {
          "base_uri": "https://localhost:8080/"
        },
        "id": "7RrabeAeO2pX",
        "outputId": "d7ef953e-19fc-4751-b994-e46293660bc3"
      },
      "execution_count": null,
      "outputs": [
        {
          "output_type": "stream",
          "name": "stdout",
          "text": [
            "meaow\n",
            "meaow\n",
            "meaow\n"
          ]
        }
      ]
    },
    {
      "cell_type": "code",
      "source": [
        "for i in range(5):\n",
        "  print(\"meaow\")"
      ],
      "metadata": {
        "colab": {
          "base_uri": "https://localhost:8080/"
        },
        "id": "Yk2yPBpaQF2x",
        "outputId": "d5534611-b89a-47dd-dbe0-97942cc11370"
      },
      "execution_count": null,
      "outputs": [
        {
          "output_type": "stream",
          "name": "stdout",
          "text": [
            "meaow\n",
            "meaow\n",
            "meaow\n",
            "meaow\n",
            "meaow\n"
          ]
        }
      ]
    },
    {
      "cell_type": "code",
      "source": [
        "for _  in range(3):\n",
        "    print(\"meaow\")"
      ],
      "metadata": {
        "colab": {
          "base_uri": "https://localhost:8080/"
        },
        "id": "RNXIq3kLQ537",
        "outputId": "80689fae-6daa-427c-fdd5-341ca5be4d6f"
      },
      "execution_count": null,
      "outputs": [
        {
          "output_type": "stream",
          "name": "stdout",
          "text": [
            "meaow\n",
            "meaow\n",
            "meaow\n"
          ]
        }
      ]
    },
    {
      "cell_type": "code",
      "source": [
        "print(\"meaow\\n\"* 3, end =\"\")"
      ],
      "metadata": {
        "colab": {
          "base_uri": "https://localhost:8080/"
        },
        "id": "_pFfQ6LNTCoM",
        "outputId": "37300211-0cd1-44e7-f1e4-fdc3136e8e0f"
      },
      "execution_count": null,
      "outputs": [
        {
          "output_type": "stream",
          "name": "stdout",
          "text": [
            "meaow\n",
            "meaow\n",
            "meaow\n"
          ]
        }
      ]
    },
    {
      "cell_type": "code",
      "source": [
        "while True:\n",
        "    n = int(input(\"Whats n?\"))\n",
        "    if n > 0:\n",
        "        break\n",
        "\n",
        "for _ in range(n):\n",
        "      print (\"meow\")\n",
        "\n"
      ],
      "metadata": {
        "colab": {
          "base_uri": "https://localhost:8080/"
        },
        "id": "3RIvjDq5THp8",
        "outputId": "0f351f8b-4470-41bb-97b4-b547775a6929"
      },
      "execution_count": null,
      "outputs": [
        {
          "output_type": "stream",
          "name": "stdout",
          "text": [
            "Whats n?3\n",
            "meow\n",
            "meow\n",
            "meow\n"
          ]
        }
      ]
    },
    {
      "cell_type": "code",
      "source": [
        "def main():\n",
        "    number = get_number()\n",
        "    meow(number)\n",
        "\n",
        "\n",
        "def get_number():\n",
        "    while True:\n",
        "        n = int(input(\"What's n?\"))\n",
        "        if n > 0:\n",
        "             break\n",
        "    return n\n",
        "\n",
        "def meow(n):\n",
        "    for _ in range(n):\n",
        "          print(\"meow\")\n",
        "\n",
        "main()\n"
      ],
      "metadata": {
        "colab": {
          "base_uri": "https://localhost:8080/"
        },
        "id": "WFCtc4c_WOUA",
        "outputId": "61080d45-a4e4-4b76-f158-d5bbb3cc100b"
      },
      "execution_count": null,
      "outputs": [
        {
          "output_type": "stream",
          "name": "stdout",
          "text": [
            "What's n?3\n",
            "meow\n",
            "meow\n",
            "meow\n"
          ]
        }
      ]
    },
    {
      "cell_type": "code",
      "source": [
        "students = [\"Hermione\", \"Harry\", \"Ron\"]\n",
        "\n",
        "for student in students:\n",
        "    print(student)"
      ],
      "metadata": {
        "colab": {
          "base_uri": "https://localhost:8080/"
        },
        "id": "hB7tRO_7XiS3",
        "outputId": "b2f81a0d-18d7-4b06-da5e-9f90cea1ec4b"
      },
      "execution_count": null,
      "outputs": [
        {
          "output_type": "stream",
          "name": "stdout",
          "text": [
            "Hermione\n",
            "Harry\n",
            "Ron\n"
          ]
        }
      ]
    },
    {
      "cell_type": "code",
      "source": [
        "students = [\"Hermione\", \"Harry\", \"Ron\"]\n",
        "\n",
        "for i in range (len(students)):\n",
        "    print(i + 1, students[i])\n"
      ],
      "metadata": {
        "colab": {
          "base_uri": "https://localhost:8080/"
        },
        "id": "1vzDGm-dY2IF",
        "outputId": "b9421792-74c0-4b53-8c71-f3824cb03e08"
      },
      "execution_count": null,
      "outputs": [
        {
          "output_type": "stream",
          "name": "stdout",
          "text": [
            "1 Hermione\n",
            "2 Harry\n",
            "3 Ron\n"
          ]
        }
      ]
    },
    {
      "cell_type": "code",
      "source": [
        "students = [\"Hermione\", \"Harry\", \"Ron\", \"Draco\"]\n",
        "houses= [\"Gryffindor\", \"Gryffindor\", \"Gryffindor\", \"Slytherin\"]\n"
      ],
      "metadata": {
        "id": "7UqoL2s3dxPj"
      },
      "execution_count": null,
      "outputs": []
    },
    {
      "cell_type": "code",
      "source": [
        "students= {\"Hermione\": \"Gryffidor\",\n",
        "           \"Harry\": \"Gryffindor\",\n",
        "           \"Ron\": \"Gryffindor\",\n",
        "           \"Draco\": \"Slytherin\"\n",
        "           }\n",
        "\n",
        "print(students[\"Hermione\"])\n",
        "print(students[\"Harry\"])\n",
        "print(students[\"Ron\"])\n",
        "print(students[\"Draco\"])\n"
      ],
      "metadata": {
        "colab": {
          "base_uri": "https://localhost:8080/"
        },
        "id": "MKAJAz9IfYf2",
        "outputId": "dc9e8752-50e5-49a8-fba8-19aad1d0c1b2"
      },
      "execution_count": null,
      "outputs": [
        {
          "output_type": "stream",
          "name": "stdout",
          "text": [
            "Gryffidor\n",
            "Gryffindor\n",
            "Gryffindor\n",
            "Slytherin\n"
          ]
        }
      ]
    },
    {
      "cell_type": "code",
      "source": [
        "students= {\"Hermione\": \"Gryffidor\",\n",
        "           \"Harry\": \"Gryffindor\",\n",
        "           \"Ron\": \"Gryffindor\",\n",
        "           \"Draco\": \"Slytherin\"\n",
        "           }\n",
        "\n",
        "for student in students:\n",
        "     print(student, students[student], sep= \",\")"
      ],
      "metadata": {
        "colab": {
          "base_uri": "https://localhost:8080/"
        },
        "id": "XL6obdAcf5xr",
        "outputId": "300491ef-8e89-4cb9-960e-49806ac18af5"
      },
      "execution_count": null,
      "outputs": [
        {
          "output_type": "stream",
          "name": "stdout",
          "text": [
            "Hermione,Gryffidor\n",
            "Harry,Gryffindor\n",
            "Ron,Gryffindor\n",
            "Draco,Slytherin\n"
          ]
        }
      ]
    },
    {
      "cell_type": "code",
      "source": [
        "students = [\n",
        "    {\"name\": \"Hermione\", \"house\": \"Gryffindor\", \"patronus\": \"Otter\"},\n",
        "    {\"name\": \"Harry\", \"house\": \"Gryffindor\", \"patronus\": \"Stag\"},\n",
        "    {\"name\": \"Ron\", \"house\": \"Gryffindor\", \"patronus\": \"Jack Russell terrier\"},\n",
        "    {\"name\": \"Draco\", \"house\": \"Slytherin\", \"patronus\": None}\n",
        "]\n",
        "\n",
        "for student in students:\n",
        "    print(student[\"name\"], student[\"house\"], student[\"patronus\"], sep=\", \")"
      ],
      "metadata": {
        "colab": {
          "base_uri": "https://localhost:8080/"
        },
        "id": "LghN6g8lh3f0",
        "outputId": "e92e2979-3c21-48dd-fdee-d6d1ce8a029b"
      },
      "execution_count": null,
      "outputs": [
        {
          "output_type": "stream",
          "name": "stdout",
          "text": [
            "Hermione, Gryffindor, Otter\n",
            "Harry, Gryffindor, Stag\n",
            "Ron, Gryffindor, Jack Russell terrier\n",
            "Draco, Slytherin, None\n"
          ]
        }
      ]
    },
    {
      "cell_type": "code",
      "source": [
        "for _ in range(3):\n",
        "    print(\"#\")\n",
        "\n",
        "\n"
      ],
      "metadata": {
        "colab": {
          "base_uri": "https://localhost:8080/"
        },
        "id": "2lP7whL_v18e",
        "outputId": "32eb8deb-1012-4422-cb1d-0469055bb623"
      },
      "execution_count": null,
      "outputs": [
        {
          "output_type": "stream",
          "name": "stdout",
          "text": [
            "#\n",
            "#\n",
            "#\n"
          ]
        }
      ]
    },
    {
      "cell_type": "code",
      "source": [
        "def main():\n",
        "    print_column(3)\n",
        "\n",
        "\n",
        "def print_column(height):\n",
        "    print(\"#n\" * height, end =\"\")\n",
        "\n",
        "main()"
      ],
      "metadata": {
        "colab": {
          "base_uri": "https://localhost:8080/"
        },
        "id": "t8b95GsrwSSD",
        "outputId": "c50d2652-07b7-4e75-d698-a3d55867fe22"
      },
      "execution_count": null,
      "outputs": [
        {
          "output_type": "stream",
          "name": "stdout",
          "text": [
            "#n#n#n"
          ]
        }
      ]
    },
    {
      "cell_type": "code",
      "source": [
        "def main():\n",
        "    print_row(4)\n",
        "\n",
        "def print_row(width):\n",
        "    print(\"?\"  * width)\n",
        "\n",
        "main()"
      ],
      "metadata": {
        "colab": {
          "base_uri": "https://localhost:8080/"
        },
        "id": "UtCM4H1sxAmu",
        "outputId": "0655bb18-7998-4e3f-8e69-cd227c3c21f2"
      },
      "execution_count": null,
      "outputs": [
        {
          "output_type": "stream",
          "name": "stdout",
          "text": [
            "????\n"
          ]
        }
      ]
    },
    {
      "cell_type": "markdown",
      "source": [],
      "metadata": {
        "id": "UkUb2sSzh3G0"
      }
    },
    {
      "cell_type": "code",
      "source": [
        "def main():\n",
        "  print_square(3)\n",
        "\n",
        "def print_square(size):\n",
        "  # For each row in square\n",
        "  for i in range(size):\n",
        "\n",
        "    # For each brick in row\n",
        "      for j in range(size):\n",
        "        # Print Brick\n",
        "        print(\"#\", end=\"\")\n",
        "\n",
        "      print()\n",
        "\n",
        "\n",
        "main()\n",
        "\n",
        "\n"
      ],
      "metadata": {
        "colab": {
          "base_uri": "https://localhost:8080/"
        },
        "id": "nFyQcXPcxiqH",
        "outputId": "54fca49c-3aab-4d37-9cd5-0b4283141d38"
      },
      "execution_count": null,
      "outputs": [
        {
          "output_type": "stream",
          "name": "stdout",
          "text": [
            "###\n",
            "###\n",
            "###\n"
          ]
        }
      ]
    },
    {
      "cell_type": "code",
      "source": [
        "def main():\n",
        "  print_square(5)\n",
        "\n",
        "def print_square(size):\n",
        "  for i in range(size):\n",
        "        print_row(size)\n",
        "\n",
        "def print_row(width):\n",
        "      print(\"#\" * width)\n",
        "\n",
        "\n",
        "main()"
      ],
      "metadata": {
        "colab": {
          "base_uri": "https://localhost:8080/"
        },
        "id": "z6apy2FV2LGI",
        "outputId": "3d41babe-dc63-4396-93b3-f0ec023ffc6b"
      },
      "execution_count": null,
      "outputs": [
        {
          "output_type": "stream",
          "name": "stdout",
          "text": [
            "#####\n",
            "#####\n",
            "#####\n",
            "#####\n",
            "#####\n"
          ]
        }
      ]
    },
    {
      "cell_type": "markdown",
      "source": [],
      "metadata": {
        "id": "x56UzgpfzX2j"
      }
    },
    {
      "cell_type": "markdown",
      "source": [
        "Exceptions"
      ],
      "metadata": {
        "id": "VgRV1_DQzTJD"
      }
    },
    {
      "cell_type": "code",
      "source": [
        "x = int(input(\"Whats x?\"))\n",
        "print(f\"x is {x}\")"
      ],
      "metadata": {
        "id": "rqHBWINd22XJ",
        "colab": {
          "base_uri": "https://localhost:8080/",
          "height": 176
        },
        "outputId": "00659494-ab18-4359-edd8-124c6af98cf4"
      },
      "execution_count": null,
      "outputs": [
        {
          "name": "stdout",
          "output_type": "stream",
          "text": [
            "Whats x?cat\n"
          ]
        },
        {
          "output_type": "error",
          "ename": "ValueError",
          "evalue": "invalid literal for int() with base 10: 'cat'",
          "traceback": [
            "\u001b[0;31m---------------------------------------------------------------------------\u001b[0m",
            "\u001b[0;31mValueError\u001b[0m                                Traceback (most recent call last)",
            "\u001b[0;32m<ipython-input-8-586882045>\u001b[0m in \u001b[0;36m<cell line: 0>\u001b[0;34m()\u001b[0m\n\u001b[0;32m----> 1\u001b[0;31m \u001b[0mx\u001b[0m \u001b[0;34m=\u001b[0m \u001b[0mint\u001b[0m\u001b[0;34m(\u001b[0m\u001b[0minput\u001b[0m\u001b[0;34m(\u001b[0m\u001b[0;34m\"Whats x?\"\u001b[0m\u001b[0;34m)\u001b[0m\u001b[0;34m)\u001b[0m\u001b[0;34m\u001b[0m\u001b[0;34m\u001b[0m\u001b[0m\n\u001b[0m\u001b[1;32m      2\u001b[0m \u001b[0mprint\u001b[0m\u001b[0;34m(\u001b[0m\u001b[0;34mf\"x is {x}\"\u001b[0m\u001b[0;34m)\u001b[0m\u001b[0;34m\u001b[0m\u001b[0;34m\u001b[0m\u001b[0m\n",
            "\u001b[0;31mValueError\u001b[0m: invalid literal for int() with base 10: 'cat'"
          ]
        }
      ]
    },
    {
      "cell_type": "code",
      "source": [
        "try:\n",
        "    x = int(input(\"Whats x?\"))\n",
        "    print(f\"x is {x}\")\n",
        "except ValueError:\n",
        "      print(\"x is not an integer\")\n"
      ],
      "metadata": {
        "colab": {
          "base_uri": "https://localhost:8080/"
        },
        "id": "PlquKnLNzfOS",
        "outputId": "6d290e5d-a9fc-4629-abfb-caa44fbce012"
      },
      "execution_count": null,
      "outputs": [
        {
          "output_type": "stream",
          "name": "stdout",
          "text": [
            "Whats x?cat\n",
            "x is not an integer\n"
          ]
        }
      ]
    },
    {
      "cell_type": "code",
      "source": [
        "try:\n",
        "    x = int(input(\"Whats x?\"))\n",
        "except ValueError:\n",
        "      print(\"x is not an integer\")\n",
        "\n",
        "print(f\"x is {x}\")\n"
      ],
      "metadata": {
        "colab": {
          "base_uri": "https://localhost:8080/"
        },
        "id": "yEXLhkgszfL7",
        "outputId": "2901e7fd-2131-493d-8caa-d3f7897a1f01"
      },
      "execution_count": null,
      "outputs": [
        {
          "output_type": "stream",
          "name": "stdout",
          "text": [
            "Whats x?50\n",
            "x is 50\n"
          ]
        }
      ]
    },
    {
      "cell_type": "code",
      "source": [
        "try:\n",
        "    x = int(input(\"Whats x?\"))\n",
        "except ValueError:\n",
        "      print(\"x is not an integer\")\n",
        "else:\n",
        "      print(f\"x is {x}\")\n"
      ],
      "metadata": {
        "colab": {
          "base_uri": "https://localhost:8080/"
        },
        "id": "DWSXzTFG3G6Z",
        "outputId": "519831ea-c856-4981-8b76-c676ed72e010"
      },
      "execution_count": null,
      "outputs": [
        {
          "output_type": "stream",
          "name": "stdout",
          "text": [
            "Whats x?cat\n",
            "x is not an integer\n"
          ]
        }
      ]
    },
    {
      "cell_type": "code",
      "source": [
        "while True:\n",
        "          try:\n",
        "              x = int(input(\"Whats x?\"))\n",
        "          except ValueError:\n",
        "                print(\"x is not an integer\")\n",
        "          else:\n",
        "               break\n",
        "\n",
        "print(f\"x is {x}\")"
      ],
      "metadata": {
        "colab": {
          "base_uri": "https://localhost:8080/"
        },
        "id": "3LHjs5i93RrH",
        "outputId": "e7c805c1-99df-446c-8f7d-cd24ca0e558f"
      },
      "execution_count": null,
      "outputs": [
        {
          "output_type": "stream",
          "name": "stdout",
          "text": [
            "Whats x?cat\n",
            "x is not an integer\n",
            "Whats x?dog\n",
            "x is not an integer\n",
            "Whats x?20\n",
            "x is 20\n"
          ]
        }
      ]
    },
    {
      "cell_type": "code",
      "source": [
        "def main():\n",
        "    x = get_int()\n",
        "    print(f\"x is {x}\")\n",
        "\n",
        "def get_int():\n",
        "    while True:\n",
        "          try:\n",
        "              x = int(input(\"Whats x?\"))\n",
        "          except ValueError:\n",
        "                print(\"x is not an integer\")\n",
        "          else:\n",
        "               return x\n",
        "\n",
        "\n",
        "main()"
      ],
      "metadata": {
        "colab": {
          "base_uri": "https://localhost:8080/"
        },
        "id": "2vtv3Tc84cy2",
        "outputId": "402d4602-704d-430d-e284-6b9526369e61"
      },
      "execution_count": null,
      "outputs": [
        {
          "output_type": "stream",
          "name": "stdout",
          "text": [
            "Whats x?do\n",
            "x is not an integer\n",
            "Whats x?30\n",
            "x is 30\n"
          ]
        }
      ]
    },
    {
      "cell_type": "code",
      "source": [
        "def main():\n",
        "    x = get_int()\n",
        "    print(f\"x is {x}\")\n",
        "\n",
        "def get_int():\n",
        "    while True:\n",
        "          try:\n",
        "              return  int(input(\"Whats x?\"))\n",
        "          except ValueError:\n",
        "                print(\"x is not an integer\")\n",
        "\n",
        "\n",
        "main()"
      ],
      "metadata": {
        "colab": {
          "base_uri": "https://localhost:8080/"
        },
        "id": "DpFqho1Q57nV",
        "outputId": "2dfd1239-8054-4aac-9e8a-e22dc2b3757f"
      },
      "execution_count": null,
      "outputs": [
        {
          "output_type": "stream",
          "name": "stdout",
          "text": [
            "Whats x?dog\n",
            "x is not an integer\n",
            "Whats x?23\n",
            "x is 23\n"
          ]
        }
      ]
    },
    {
      "cell_type": "code",
      "source": [
        "def main():\n",
        "    x = get_int(\"What's x?\")\n",
        "    print(f\"x is {x}\")\n",
        "\n",
        "def get_int(prompt):\n",
        "    while True:\n",
        "          try:\n",
        "              return  int(input(prompt))\n",
        "          except ValueError:\n",
        "                pass\n",
        "\n",
        "\n",
        "main()"
      ],
      "metadata": {
        "colab": {
          "base_uri": "https://localhost:8080/"
        },
        "id": "FPYNcQp47UwE",
        "outputId": "09daef7c-8150-4d58-e4b7-ee7d6ecfa8bd"
      },
      "execution_count": null,
      "outputs": [
        {
          "output_type": "stream",
          "name": "stdout",
          "text": [
            "What's x?dog\n",
            "What's x?40\n",
            "x is 40\n"
          ]
        }
      ]
    },
    {
      "cell_type": "code",
      "source": [
        "try:\n",
        "    x = int(input(\"What's x?\"))\n",
        "except ValueError:\n",
        "    print(\"x is not an integer\")\n",
        "\n",
        "print(f\"x is {x}\")"
      ],
      "metadata": {
        "colab": {
          "base_uri": "https://localhost:8080/"
        },
        "id": "XD58ae7M7psl",
        "outputId": "a3bfcc97-e2c3-4ebf-81a8-a40d172c445c"
      },
      "execution_count": null,
      "outputs": [
        {
          "output_type": "stream",
          "name": "stdout",
          "text": [
            "What's x?cat\n",
            "x is not an integer\n",
            "x is 20\n"
          ]
        }
      ]
    },
    {
      "cell_type": "markdown",
      "source": [
        "LIBRARIES"
      ],
      "metadata": {
        "id": "wmdtG3Q3LJi0"
      }
    },
    {
      "cell_type": "markdown",
      "source": [
        "random"
      ],
      "metadata": {
        "id": "9PoNoKQeUZp2"
      }
    },
    {
      "cell_type": "code",
      "source": [
        "import random\n",
        "\n",
        "coin = random.choice([\"head\", \"tails\"])\n",
        "print(coin)"
      ],
      "metadata": {
        "colab": {
          "base_uri": "https://localhost:8080/"
        },
        "id": "d5HE-SnYKqeM",
        "outputId": "e08b02f7-7d7a-49e1-8315-c64435ebfc5a"
      },
      "execution_count": null,
      "outputs": [
        {
          "output_type": "stream",
          "name": "stdout",
          "text": [
            "tails\n"
          ]
        }
      ]
    },
    {
      "cell_type": "code",
      "source": [
        "from random import choice\n",
        "\n",
        "coin = random.choice([\"head\", \"tails\"])\n",
        "print(coin)"
      ],
      "metadata": {
        "colab": {
          "base_uri": "https://localhost:8080/"
        },
        "id": "AbZhGgbPPjGQ",
        "outputId": "353e8092-8d24-405c-f612-c67a37f07c2d"
      },
      "execution_count": null,
      "outputs": [
        {
          "output_type": "stream",
          "name": "stdout",
          "text": [
            "head\n"
          ]
        }
      ]
    },
    {
      "cell_type": "code",
      "source": [
        "import random\n",
        "\n",
        "number = random.randint(1,10)\n",
        "print(number)"
      ],
      "metadata": {
        "colab": {
          "base_uri": "https://localhost:8080/"
        },
        "id": "N67f_tKtSNAd",
        "outputId": "3835898e-c0ba-4968-e09d-0d5a3dfa2afc"
      },
      "execution_count": null,
      "outputs": [
        {
          "output_type": "stream",
          "name": "stdout",
          "text": [
            "7\n"
          ]
        }
      ]
    },
    {
      "cell_type": "code",
      "source": [],
      "metadata": {
        "id": "lbvljaObS5k9"
      },
      "execution_count": null,
      "outputs": []
    },
    {
      "cell_type": "code",
      "source": [
        "import random\n",
        "\n",
        "cards = [\"jack\", \"queen\", \"king\"]\n",
        "random.shuffle(cards)\n",
        "for card in cards:\n",
        "    print(card)"
      ],
      "metadata": {
        "colab": {
          "base_uri": "https://localhost:8080/"
        },
        "outputId": "0054d778-1bae-4450-8a1f-382a78b7f1a8",
        "id": "ZIQM0qCsTI3Q"
      },
      "execution_count": null,
      "outputs": [
        {
          "output_type": "stream",
          "name": "stdout",
          "text": [
            "king\n",
            "queen\n",
            "jack\n"
          ]
        }
      ]
    },
    {
      "cell_type": "markdown",
      "source": [
        "Statistics"
      ],
      "metadata": {
        "id": "Ord37SXbUcA9"
      }
    },
    {
      "cell_type": "code",
      "source": [
        "import statistics\n",
        "\n",
        "print(statistics.mean([100, 90]))"
      ],
      "metadata": {
        "colab": {
          "base_uri": "https://localhost:8080/"
        },
        "id": "4jGNxCxUTkM1",
        "outputId": "08ec20b8-3776-4843-9bca-99184b371c4f"
      },
      "execution_count": null,
      "outputs": [
        {
          "output_type": "stream",
          "name": "stdout",
          "text": [
            "95\n"
          ]
        }
      ]
    },
    {
      "cell_type": "markdown",
      "source": [
        "Commnad Line argument"
      ],
      "metadata": {
        "id": "dHsmon36U2fI"
      }
    },
    {
      "cell_type": "markdown",
      "source": [
        "sys.argv"
      ],
      "metadata": {
        "id": "1GVdxg4HVMk4"
      }
    },
    {
      "cell_type": "code",
      "source": [
        "import sys\n",
        "\n",
        "try:\n",
        "    print(\"hello, my name is\", sys.argv[1])\n",
        "\n",
        "except IndexError:\n",
        "    print(\"Too few arguements\")"
      ],
      "metadata": {
        "colab": {
          "base_uri": "https://localhost:8080/"
        },
        "id": "nLbu-6CjUxc1",
        "outputId": "6ec3673a-ae22-425c-a9c9-f7def79158af"
      },
      "execution_count": null,
      "outputs": [
        {
          "output_type": "stream",
          "name": "stdout",
          "text": [
            "hello, my name is -f\n"
          ]
        }
      ]
    },
    {
      "cell_type": "code",
      "source": [
        "import sys\n",
        "if len(sys.argv) < 2:\n",
        "    print(\"Too few arguements\")\n",
        "elif len(sys.argv) > 2:\n",
        "    print(\"Too many arguements\")\n",
        "else:\n",
        "    print(\"hello, my name is\", sys.argv[1])"
      ],
      "metadata": {
        "colab": {
          "base_uri": "https://localhost:8080/"
        },
        "id": "Qsu9zITAXw_E",
        "outputId": "e94a88df-cf45-48b1-e685-5165c9635d6f"
      },
      "execution_count": null,
      "outputs": [
        {
          "output_type": "stream",
          "name": "stdout",
          "text": [
            "Too many arguements\n"
          ]
        }
      ]
    },
    {
      "cell_type": "code",
      "source": [
        "import sys\n",
        "if len(sys.argv) < 2:\n",
        "    print(\"Too few arguements\")\n",
        "elif len(sys.argv) > 2:\n",
        "    print(\"Too many arguements\")\n",
        "\n",
        "print(\"hello, my name is\", sys.argv[1])"
      ],
      "metadata": {
        "colab": {
          "base_uri": "https://localhost:8080/"
        },
        "id": "yX4pff6VX1eG",
        "outputId": "14e02fcc-ad58-42fb-aa67-4ec292dcfe14"
      },
      "execution_count": null,
      "outputs": [
        {
          "output_type": "stream",
          "name": "stdout",
          "text": [
            "Too many arguements\n",
            "hello, my name is -f\n"
          ]
        }
      ]
    },
    {
      "cell_type": "code",
      "source": [
        "import sys\n",
        "if len(sys.argv) < 2:\n",
        "    exit(\"Too few arguements\")\n",
        "elif len(sys.argv) > 2:\n",
        "    exit(\"Too many arguements\")\n",
        "\n",
        "print(\"hello, my name is\", sys.argv[1])"
      ],
      "metadata": {
        "id": "2urbnKWtYt1l",
        "colab": {
          "base_uri": "https://localhost:8080/"
        },
        "outputId": "7e26de4c-39e6-469d-866d-a7cd28f86f05"
      },
      "execution_count": null,
      "outputs": [
        {
          "output_type": "stream",
          "name": "stdout",
          "text": [
            "hello, my name is -f\n"
          ]
        }
      ]
    },
    {
      "cell_type": "code",
      "source": [
        "import sys\n",
        "if len(sys.argv) < 2:\n",
        "    exit(\"Too few arguements\")\n",
        "\n",
        "for arg in sys.argv[1:]:\n",
        "\n",
        "    print(\"hello, my name is\", sys.argv)"
      ],
      "metadata": {
        "colab": {
          "base_uri": "https://localhost:8080/"
        },
        "id": "P078FNa8bOpS",
        "outputId": "acdca776-bfd1-46b6-a6f8-bf170190b717"
      },
      "execution_count": null,
      "outputs": [
        {
          "output_type": "stream",
          "name": "stdout",
          "text": [
            "hello, my name is ['/usr/local/lib/python3.11/dist-packages/colab_kernel_launcher.py', '-f', '/root/.local/share/jupyter/runtime/kernel-eb541f84-425c-47a2-8d46-dd284d303009.json']\n",
            "hello, my name is ['/usr/local/lib/python3.11/dist-packages/colab_kernel_launcher.py', '-f', '/root/.local/share/jupyter/runtime/kernel-eb541f84-425c-47a2-8d46-dd284d303009.json']\n"
          ]
        }
      ]
    },
    {
      "cell_type": "markdown",
      "source": [
        "Pip, cowsay"
      ],
      "metadata": {
        "id": "K6UvZB9GeWq_"
      }
    },
    {
      "cell_type": "code",
      "source": [
        "pip install cowsay"
      ],
      "metadata": {
        "colab": {
          "base_uri": "https://localhost:8080/"
        },
        "id": "2aqOnUQle778",
        "outputId": "435dd094-e839-4036-cbff-aee02733eef8"
      },
      "execution_count": null,
      "outputs": [
        {
          "output_type": "stream",
          "name": "stdout",
          "text": [
            "Collecting cowsay\n",
            "  Downloading cowsay-6.1-py3-none-any.whl.metadata (5.6 kB)\n",
            "Downloading cowsay-6.1-py3-none-any.whl (25 kB)\n",
            "Installing collected packages: cowsay\n",
            "Successfully installed cowsay-6.1\n"
          ]
        }
      ]
    },
    {
      "cell_type": "code",
      "source": [
        "import cowsay\n",
        "import sys\n",
        "\n",
        "if len(sys.argv) == 2:\n",
        "    cowsay.trx(\"hello, \" + sys.argv[1])\n",
        "cowsay.trex(\"hello, my name is\")\n"
      ],
      "metadata": {
        "colab": {
          "base_uri": "https://localhost:8080/"
        },
        "id": "bEYFhqqncZFJ",
        "outputId": "ac978170-0887-4cca-f3f2-fbb2395880fd"
      },
      "execution_count": null,
      "outputs": [
        {
          "output_type": "stream",
          "name": "stdout",
          "text": [
            "  _________________\n",
            "| hello, my name is |\n",
            "  =================\n",
            "                        \\\n",
            "                         \\\n",
            "                          \\\n",
            "                           \\\n",
            "                              .-=-==--==--.\n",
            "                        ..-==\"  ,'o`)      `.\n",
            "                      ,'         `\"'         \\\n",
            "                     :  (                     `.__...._\n",
            "                     |                  )    /         `-=-.\n",
            "                     :       ,vv.-._   /    /               `---==-._\n",
            "                      \\/\\/\\/VV ^ d88`;'    /                         `.\n",
            "                          ``  ^/d88P!'    /             ,              `._\n",
            "                             ^/    !'   ,.      ,      /                  \"-,,__,,--'\"\"\"\"-.\n",
            "                            ^/    !'  ,'  \\ . .(      (         _           )  ) ) ) ))_,-.\\\n",
            "                           ^(__ ,!',\"'   ;:+.:%:a.     \\:.. . ,'          )  )  ) ) ,\"'    '\n",
            "                           ',,,'','     /o:::\":%:%a.    \\:.:.:         .    )  ) _,'\n",
            "                            \"\"\"'       ;':::'' `+%%%a._  \\%:%|         ;.). _,-\"\"\n",
            "                                   ,-='_.-'      ``:%::)  )%:|        /:._,\"\n",
            "                                  (/(/\"           ,\" ,'_,'%%%:       (_,'\n",
            "                                                 (  (//(`.___;        \\\n",
            "                                                  \\     \\    `         `\n",
            "                                                   `.    `.   `.        :\n",
            "                                                     \\. . .\\    : . . . :\n",
            "                                                      \\. . .:    `.. . .:\n",
            "                                                       `..:.:\\     \\:...\\\n",
            "                                                        ;:.:.;      ::...:\n",
            "                                                        ):%::       :::::;\n",
            "                                                    __,::%:(        :::::\n",
            "                                                 ,;:%%%%%%%:        ;:%::\n",
            "                                                   ;,--\"\"-.`\\  ,=--':%:%:\\\n",
            "                                                  /\"       \"| /-\".:%%%%%%%\\\n",
            "                                                                  ;,-\"'`)%%)\n",
            "                                                                 /\"      \"|\n"
          ]
        }
      ]
    },
    {
      "cell_type": "markdown",
      "source": [
        "**APIs**"
      ],
      "metadata": {
        "id": "Q-zWTTDWiKcV"
      }
    },
    {
      "cell_type": "code",
      "source": [
        "pip install requests"
      ],
      "metadata": {
        "colab": {
          "base_uri": "https://localhost:8080/"
        },
        "id": "ptL6uKodeuL2",
        "outputId": "6670f80f-3523-46a3-8606-8768e904a9e2"
      },
      "execution_count": null,
      "outputs": [
        {
          "output_type": "stream",
          "name": "stdout",
          "text": [
            "Requirement already satisfied: requests in /usr/local/lib/python3.11/dist-packages (2.32.3)\n",
            "Requirement already satisfied: charset-normalizer<4,>=2 in /usr/local/lib/python3.11/dist-packages (from requests) (3.4.2)\n",
            "Requirement already satisfied: idna<4,>=2.5 in /usr/local/lib/python3.11/dist-packages (from requests) (3.10)\n",
            "Requirement already satisfied: urllib3<3,>=1.21.1 in /usr/local/lib/python3.11/dist-packages (from requests) (2.4.0)\n",
            "Requirement already satisfied: certifi>=2017.4.17 in /usr/local/lib/python3.11/dist-packages (from requests) (2025.6.15)\n"
          ]
        }
      ]
    },
    {
      "cell_type": "code",
      "source": [
        "import json\n",
        "import requests\n",
        "import sys\n",
        "\n",
        "if len(sys.argv) != 2:\n",
        "      exit()\n",
        "\n",
        "response = requests.get(\"https://itunes.apple.com/search?entity=song&limit=1&term=\" + sys.argv[1])\n",
        "print(json.dumps(response.json(), indent =2))"
      ],
      "metadata": {
        "colab": {
          "base_uri": "https://localhost:8080/"
        },
        "id": "KbCTLuN5iG1_",
        "outputId": "eefb16b9-9123-468a-9ccc-fc5251325217"
      },
      "execution_count": null,
      "outputs": [
        {
          "output_type": "stream",
          "name": "stdout",
          "text": [
            "{\n",
            "  \"resultCount\": 1,\n",
            "  \"results\": [\n",
            "    {\n",
            "      \"wrapperType\": \"track\",\n",
            "      \"kind\": \"song\",\n",
            "      \"artistId\": 347905413,\n",
            "      \"collectionId\": 1290048349,\n",
            "      \"trackId\": 1290048362,\n",
            "      \"artistName\": \"MAXIMUM THE HORMONE\",\n",
            "      \"collectionName\": \"Yoshu Fukushu\",\n",
            "      \"trackName\": \"\\u201cF\\u201d\",\n",
            "      \"collectionCensoredName\": \"Yoshu Fukushu\",\n",
            "      \"trackCensoredName\": \"\\u201cF\\u201d\",\n",
            "      \"artistViewUrl\": \"https://music.apple.com/us/artist/maximum-the-hormone/347905413?uo=4\",\n",
            "      \"collectionViewUrl\": \"https://music.apple.com/us/album/f/1290048349?i=1290048362&uo=4\",\n",
            "      \"trackViewUrl\": \"https://music.apple.com/us/album/f/1290048349?i=1290048362&uo=4\",\n",
            "      \"previewUrl\": \"https://audio-ssl.itunes.apple.com/itunes-assets/AudioPreview115/v4/e1/d8/b0/e1d8b083-2ef3-8ebc-6721-75a5fa20508d/mzaf_13092706164670873486.plus.aac.p.m4a\",\n",
            "      \"artworkUrl30\": \"https://is1-ssl.mzstatic.com/image/thumb/Music128/v4/dd/4a/55/dd4a55f8-d135-ea60-a82a-adfa39d8d928/VPCC-81770_990000.jpg/30x30bb.jpg\",\n",
            "      \"artworkUrl60\": \"https://is1-ssl.mzstatic.com/image/thumb/Music128/v4/dd/4a/55/dd4a55f8-d135-ea60-a82a-adfa39d8d928/VPCC-81770_990000.jpg/60x60bb.jpg\",\n",
            "      \"artworkUrl100\": \"https://is1-ssl.mzstatic.com/image/thumb/Music128/v4/dd/4a/55/dd4a55f8-d135-ea60-a82a-adfa39d8d928/VPCC-81770_990000.jpg/100x100bb.jpg\",\n",
            "      \"collectionPrice\": 14.99,\n",
            "      \"trackPrice\": 1.29,\n",
            "      \"releaseDate\": \"2013-07-31T12:00:00Z\",\n",
            "      \"collectionExplicitness\": \"notExplicit\",\n",
            "      \"trackExplicitness\": \"notExplicit\",\n",
            "      \"discCount\": 1,\n",
            "      \"discNumber\": 1,\n",
            "      \"trackCount\": 15,\n",
            "      \"trackNumber\": 6,\n",
            "      \"trackTimeMillis\": 247493,\n",
            "      \"country\": \"USA\",\n",
            "      \"currency\": \"USD\",\n",
            "      \"primaryGenreName\": \"Metal\",\n",
            "      \"isStreamable\": true\n",
            "    }\n",
            "  ]\n",
            "}\n"
          ]
        }
      ]
    },
    {
      "cell_type": "code",
      "source": [
        "import json\n",
        "import requests\n",
        "import sys\n",
        "\n",
        "if len(sys.argv) != 2:\n",
        "      exit()\n",
        "\n",
        "response = requests.get(\"https://itunes.apple.com/search?entity=song&limit=5&term=\" + sys.argv[1])\n",
        "print(json.dumps(response.json(), indent =2))\n",
        "\n",
        "\n",
        "o = response.json()\n",
        "for result in o[\"results\"]:\n",
        "    print(result[\"trackName\"])"
      ],
      "metadata": {
        "colab": {
          "base_uri": "https://localhost:8080/"
        },
        "id": "6Ux2wnPhjfTF",
        "outputId": "8d6246d3-379d-42ac-c3f3-6f3caf51acb4"
      },
      "execution_count": null,
      "outputs": [
        {
          "output_type": "stream",
          "name": "stdout",
          "text": [
            "{\n",
            "  \"resultCount\": 5,\n",
            "  \"results\": [\n",
            "    {\n",
            "      \"wrapperType\": \"track\",\n",
            "      \"kind\": \"song\",\n",
            "      \"artistId\": 347905413,\n",
            "      \"collectionId\": 1290048349,\n",
            "      \"trackId\": 1290048362,\n",
            "      \"artistName\": \"MAXIMUM THE HORMONE\",\n",
            "      \"collectionName\": \"Yoshu Fukushu\",\n",
            "      \"trackName\": \"\\u201cF\\u201d\",\n",
            "      \"collectionCensoredName\": \"Yoshu Fukushu\",\n",
            "      \"trackCensoredName\": \"\\u201cF\\u201d\",\n",
            "      \"artistViewUrl\": \"https://music.apple.com/us/artist/maximum-the-hormone/347905413?uo=4\",\n",
            "      \"collectionViewUrl\": \"https://music.apple.com/us/album/f/1290048349?i=1290048362&uo=4\",\n",
            "      \"trackViewUrl\": \"https://music.apple.com/us/album/f/1290048349?i=1290048362&uo=4\",\n",
            "      \"previewUrl\": \"https://audio-ssl.itunes.apple.com/itunes-assets/AudioPreview115/v4/e1/d8/b0/e1d8b083-2ef3-8ebc-6721-75a5fa20508d/mzaf_13092706164670873486.plus.aac.p.m4a\",\n",
            "      \"artworkUrl30\": \"https://is1-ssl.mzstatic.com/image/thumb/Music128/v4/dd/4a/55/dd4a55f8-d135-ea60-a82a-adfa39d8d928/VPCC-81770_990000.jpg/30x30bb.jpg\",\n",
            "      \"artworkUrl60\": \"https://is1-ssl.mzstatic.com/image/thumb/Music128/v4/dd/4a/55/dd4a55f8-d135-ea60-a82a-adfa39d8d928/VPCC-81770_990000.jpg/60x60bb.jpg\",\n",
            "      \"artworkUrl100\": \"https://is1-ssl.mzstatic.com/image/thumb/Music128/v4/dd/4a/55/dd4a55f8-d135-ea60-a82a-adfa39d8d928/VPCC-81770_990000.jpg/100x100bb.jpg\",\n",
            "      \"collectionPrice\": 14.99,\n",
            "      \"trackPrice\": 1.29,\n",
            "      \"releaseDate\": \"2013-07-31T12:00:00Z\",\n",
            "      \"collectionExplicitness\": \"notExplicit\",\n",
            "      \"trackExplicitness\": \"notExplicit\",\n",
            "      \"discCount\": 1,\n",
            "      \"discNumber\": 1,\n",
            "      \"trackCount\": 15,\n",
            "      \"trackNumber\": 6,\n",
            "      \"trackTimeMillis\": 247493,\n",
            "      \"country\": \"USA\",\n",
            "      \"currency\": \"USD\",\n",
            "      \"primaryGenreName\": \"Metal\",\n",
            "      \"isStreamable\": true\n",
            "    },\n",
            "    {\n",
            "      \"wrapperType\": \"track\",\n",
            "      \"kind\": \"song\",\n",
            "      \"artistId\": 201714418,\n",
            "      \"collectionId\": 562648250,\n",
            "      \"trackId\": 562648267,\n",
            "      \"artistName\": \"Wiz Khalifa\",\n",
            "      \"collectionName\": \"O.N.I.F.C. (Deluxe Version)\",\n",
            "      \"trackName\": \"Remember You (feat. The Weeknd)\",\n",
            "      \"collectionCensoredName\": \"O.N.I.F.C. (Deluxe Version)\",\n",
            "      \"trackCensoredName\": \"Remember You (feat. The Weeknd)\",\n",
            "      \"artistViewUrl\": \"https://music.apple.com/us/artist/wiz-khalifa/201714418?uo=4\",\n",
            "      \"collectionViewUrl\": \"https://music.apple.com/us/album/remember-you-feat-the-weeknd/562648250?i=562648267&uo=4\",\n",
            "      \"trackViewUrl\": \"https://music.apple.com/us/album/remember-you-feat-the-weeknd/562648250?i=562648267&uo=4\",\n",
            "      \"previewUrl\": \"https://audio-ssl.itunes.apple.com/itunes-assets/AudioPreview112/v4/11/42/41/114241b6-97e2-0aaf-5f47-03fb26f81ba3/mzaf_2205961925238577.plus.aac.p.m4a\",\n",
            "      \"artworkUrl30\": \"https://is1-ssl.mzstatic.com/image/thumb/Music122/v4/ed/ca/23/edca238e-bdb9-0999-65e6-8879f66b077a/075679960009.jpg/30x30bb.jpg\",\n",
            "      \"artworkUrl60\": \"https://is1-ssl.mzstatic.com/image/thumb/Music122/v4/ed/ca/23/edca238e-bdb9-0999-65e6-8879f66b077a/075679960009.jpg/60x60bb.jpg\",\n",
            "      \"artworkUrl100\": \"https://is1-ssl.mzstatic.com/image/thumb/Music122/v4/ed/ca/23/edca238e-bdb9-0999-65e6-8879f66b077a/075679960009.jpg/100x100bb.jpg\",\n",
            "      \"collectionPrice\": 14.99,\n",
            "      \"trackPrice\": 1.29,\n",
            "      \"releaseDate\": \"2012-09-24T07:00:00Z\",\n",
            "      \"collectionExplicitness\": \"explicit\",\n",
            "      \"trackExplicitness\": \"explicit\",\n",
            "      \"discCount\": 1,\n",
            "      \"discNumber\": 1,\n",
            "      \"trackCount\": 20,\n",
            "      \"trackNumber\": 16,\n",
            "      \"trackTimeMillis\": 290078,\n",
            "      \"country\": \"USA\",\n",
            "      \"currency\": \"USD\",\n",
            "      \"primaryGenreName\": \"Hip-Hop/Rap\",\n",
            "      \"contentAdvisoryRating\": \"Explicit\",\n",
            "      \"isStreamable\": true\n",
            "    },\n",
            "    {\n",
            "      \"wrapperType\": \"track\",\n",
            "      \"kind\": \"song\",\n",
            "      \"artistId\": 201714418,\n",
            "      \"collectionId\": 562648250,\n",
            "      \"trackId\": 562648268,\n",
            "      \"artistName\": \"Wiz Khalifa\",\n",
            "      \"collectionName\": \"O.N.I.F.C. (Deluxe Version)\",\n",
            "      \"trackName\": \"Medicated (feat. Chevy Woods & Juicy J)\",\n",
            "      \"collectionCensoredName\": \"O.N.I.F.C. (Deluxe Version)\",\n",
            "      \"trackCensoredName\": \"Medicated (feat. Chevy Woods & Juicy J)\",\n",
            "      \"artistViewUrl\": \"https://music.apple.com/us/artist/wiz-khalifa/201714418?uo=4\",\n",
            "      \"collectionViewUrl\": \"https://music.apple.com/us/album/medicated-feat-chevy-woods-juicy-j/562648250?i=562648268&uo=4\",\n",
            "      \"trackViewUrl\": \"https://music.apple.com/us/album/medicated-feat-chevy-woods-juicy-j/562648250?i=562648268&uo=4\",\n",
            "      \"previewUrl\": \"https://audio-ssl.itunes.apple.com/itunes-assets/AudioPreview112/v4/12/35/2d/12352d12-e3ee-2d38-b541-39107f50731a/mzaf_13093952433492092493.plus.aac.p.m4a\",\n",
            "      \"artworkUrl30\": \"https://is1-ssl.mzstatic.com/image/thumb/Music122/v4/ed/ca/23/edca238e-bdb9-0999-65e6-8879f66b077a/075679960009.jpg/30x30bb.jpg\",\n",
            "      \"artworkUrl60\": \"https://is1-ssl.mzstatic.com/image/thumb/Music122/v4/ed/ca/23/edca238e-bdb9-0999-65e6-8879f66b077a/075679960009.jpg/60x60bb.jpg\",\n",
            "      \"artworkUrl100\": \"https://is1-ssl.mzstatic.com/image/thumb/Music122/v4/ed/ca/23/edca238e-bdb9-0999-65e6-8879f66b077a/075679960009.jpg/100x100bb.jpg\",\n",
            "      \"collectionPrice\": 14.99,\n",
            "      \"trackPrice\": 1.29,\n",
            "      \"releaseDate\": \"2012-12-04T08:00:00Z\",\n",
            "      \"collectionExplicitness\": \"explicit\",\n",
            "      \"trackExplicitness\": \"explicit\",\n",
            "      \"discCount\": 1,\n",
            "      \"discNumber\": 1,\n",
            "      \"trackCount\": 20,\n",
            "      \"trackNumber\": 17,\n",
            "      \"trackTimeMillis\": 330205,\n",
            "      \"country\": \"USA\",\n",
            "      \"currency\": \"USD\",\n",
            "      \"primaryGenreName\": \"Hip-Hop/Rap\",\n",
            "      \"contentAdvisoryRating\": \"Explicit\",\n",
            "      \"isStreamable\": true\n",
            "    },\n",
            "    {\n",
            "      \"wrapperType\": \"track\",\n",
            "      \"kind\": \"song\",\n",
            "      \"artistId\": 774261,\n",
            "      \"collectionId\": 355034119,\n",
            "      \"trackId\": 355034160,\n",
            "      \"artistName\": \"Mindless Self Indulgence\",\n",
            "      \"collectionName\": \"Frankenstein Girls Will Seem Strangely Sexy\",\n",
            "      \"trackName\": \"F\",\n",
            "      \"collectionCensoredName\": \"Frankenstein Girls Will Seem Strangely Sexy\",\n",
            "      \"trackCensoredName\": \"F\",\n",
            "      \"artistViewUrl\": \"https://music.apple.com/us/artist/mindless-self-indulgence/774261?uo=4\",\n",
            "      \"collectionViewUrl\": \"https://music.apple.com/us/album/f/355034119?i=355034160&uo=4\",\n",
            "      \"trackViewUrl\": \"https://music.apple.com/us/album/f/355034119?i=355034160&uo=4\",\n",
            "      \"previewUrl\": \"https://audio-ssl.itunes.apple.com/itunes-assets/AudioPreview116/v4/42/22/4e/42224e35-7ef6-070a-e4ed-80a07eb736c3/mzaf_12754520069359164853.plus.aac.p.m4a\",\n",
            "      \"artworkUrl30\": \"https://is1-ssl.mzstatic.com/image/thumb/Music114/v4/92/24/0f/92240f7d-9638-2814-a64b-fbcd3d42062c/mzi.jzlxdegh.jpg/30x30bb.jpg\",\n",
            "      \"artworkUrl60\": \"https://is1-ssl.mzstatic.com/image/thumb/Music114/v4/92/24/0f/92240f7d-9638-2814-a64b-fbcd3d42062c/mzi.jzlxdegh.jpg/60x60bb.jpg\",\n",
            "      \"artworkUrl100\": \"https://is1-ssl.mzstatic.com/image/thumb/Music114/v4/92/24/0f/92240f7d-9638-2814-a64b-fbcd3d42062c/mzi.jzlxdegh.jpg/100x100bb.jpg\",\n",
            "      \"collectionPrice\": 14.99,\n",
            "      \"trackPrice\": 1.29,\n",
            "      \"releaseDate\": \"2000-02-11T12:00:00Z\",\n",
            "      \"collectionExplicitness\": \"explicit\",\n",
            "      \"trackExplicitness\": \"explicit\",\n",
            "      \"discCount\": 1,\n",
            "      \"discNumber\": 1,\n",
            "      \"trackCount\": 30,\n",
            "      \"trackNumber\": 7,\n",
            "      \"trackTimeMillis\": 12756,\n",
            "      \"country\": \"USA\",\n",
            "      \"currency\": \"USD\",\n",
            "      \"primaryGenreName\": \"Pop\",\n",
            "      \"contentAdvisoryRating\": \"Explicit\",\n",
            "      \"isStreamable\": true\n",
            "    },\n",
            "    {\n",
            "      \"wrapperType\": \"track\",\n",
            "      \"kind\": \"song\",\n",
            "      \"artistId\": 201714418,\n",
            "      \"collectionId\": 562648250,\n",
            "      \"trackId\": 562648257,\n",
            "      \"artistName\": \"Wiz Khalifa\",\n",
            "      \"collectionName\": \"O.N.I.F.C. (Deluxe Version)\",\n",
            "      \"trackName\": \"Work Hard, Play Hard\",\n",
            "      \"collectionCensoredName\": \"O.N.I.F.C. (Deluxe Version)\",\n",
            "      \"trackCensoredName\": \"Work Hard, Play Hard\",\n",
            "      \"artistViewUrl\": \"https://music.apple.com/us/artist/wiz-khalifa/201714418?uo=4\",\n",
            "      \"collectionViewUrl\": \"https://music.apple.com/us/album/work-hard-play-hard/562648250?i=562648257&uo=4\",\n",
            "      \"trackViewUrl\": \"https://music.apple.com/us/album/work-hard-play-hard/562648250?i=562648257&uo=4\",\n",
            "      \"previewUrl\": \"https://audio-ssl.itunes.apple.com/itunes-assets/AudioPreview112/v4/12/2d/87/122d877f-dd8f-d644-09f1-23ba65a96348/mzaf_3767140510178323967.plus.aac.p.m4a\",\n",
            "      \"artworkUrl30\": \"https://is1-ssl.mzstatic.com/image/thumb/Music122/v4/ed/ca/23/edca238e-bdb9-0999-65e6-8879f66b077a/075679960009.jpg/30x30bb.jpg\",\n",
            "      \"artworkUrl60\": \"https://is1-ssl.mzstatic.com/image/thumb/Music122/v4/ed/ca/23/edca238e-bdb9-0999-65e6-8879f66b077a/075679960009.jpg/60x60bb.jpg\",\n",
            "      \"artworkUrl100\": \"https://is1-ssl.mzstatic.com/image/thumb/Music122/v4/ed/ca/23/edca238e-bdb9-0999-65e6-8879f66b077a/075679960009.jpg/100x100bb.jpg\",\n",
            "      \"collectionPrice\": 14.99,\n",
            "      \"trackPrice\": 1.29,\n",
            "      \"releaseDate\": \"2012-04-23T07:00:00Z\",\n",
            "      \"collectionExplicitness\": \"explicit\",\n",
            "      \"trackExplicitness\": \"explicit\",\n",
            "      \"discCount\": 1,\n",
            "      \"discNumber\": 1,\n",
            "      \"trackCount\": 20,\n",
            "      \"trackNumber\": 6,\n",
            "      \"trackTimeMillis\": 219011,\n",
            "      \"country\": \"USA\",\n",
            "      \"currency\": \"USD\",\n",
            "      \"primaryGenreName\": \"Hip-Hop/Rap\",\n",
            "      \"contentAdvisoryRating\": \"Explicit\",\n",
            "      \"isStreamable\": true\n",
            "    }\n",
            "  ]\n",
            "}\n",
            "“F”\n",
            "Remember You (feat. The Weeknd)\n",
            "Medicated (feat. Chevy Woods & Juicy J)\n",
            "F\n",
            "Work Hard, Play Hard\n"
          ]
        }
      ]
    },
    {
      "cell_type": "code",
      "source": [
        "def main():\n",
        "    hello(\"world\")\n",
        "    goodbye(\"world\")\n",
        "\n",
        "\n",
        "\n",
        "\n",
        "def hello(name):\n",
        "    print(f\"hello, {name}\")\n",
        "\n",
        "def goodbye(name):\n",
        "    print(f\"goodbye, {name}\")\n",
        "if __name__ == \"__main__\":\n",
        "     main()"
      ],
      "metadata": {
        "colab": {
          "base_uri": "https://localhost:8080/"
        },
        "id": "Yg8RTDB_lXHl",
        "outputId": "c4e89c7c-2f95-434f-dc9b-24b88f910abd"
      },
      "execution_count": null,
      "outputs": [
        {
          "output_type": "stream",
          "name": "stdout",
          "text": [
            "hello, world\n",
            "goodbye, world\n"
          ]
        }
      ]
    },
    {
      "cell_type": "code",
      "source": [
        "import sys\n",
        "from sayings import hello\n",
        "\n",
        "if len(sys.argv) == 2:\n",
        "    hello(sys.argv[1])"
      ],
      "metadata": {
        "colab": {
          "base_uri": "https://localhost:8080/",
          "height": 106
        },
        "id": "kxUWdluVnSL9",
        "outputId": "2d9adeb3-efce-4d57-91fb-4d0b79b2bea4"
      },
      "execution_count": null,
      "outputs": [
        {
          "output_type": "error",
          "ename": "SyntaxError",
          "evalue": "invalid syntax (ipython-input-4-1488657201.py, line 2)",
          "traceback": [
            "\u001b[0;36m  File \u001b[0;32m\"/tmp/ipython-input-4-1488657201.py\"\u001b[0;36m, line \u001b[0;32m2\u001b[0m\n\u001b[0;31m    from PROGRAMMING WITH PYTHON import hello\u001b[0m\n\u001b[0m                     ^\u001b[0m\n\u001b[0;31mSyntaxError\u001b[0m\u001b[0;31m:\u001b[0m invalid syntax\n"
          ]
        }
      ]
    },
    {
      "cell_type": "markdown",
      "source": [
        "# Unit Tests"
      ],
      "metadata": {
        "id": "PeiTre5pU6nI"
      }
    },
    {
      "cell_type": "code",
      "source": [
        "def main():\n",
        "  x = (input(\"What's x?\"))\n",
        "  print(\"x squared is\", square(x))\n",
        "\n",
        "def square(n):\n",
        "    return n * n\n",
        "\n",
        "if __name__ == \"__main__\":\n",
        "     main()"
      ],
      "metadata": {
        "id": "OHJUGONZnlEu",
        "colab": {
          "base_uri": "https://localhost:8080/",
          "height": 339
        },
        "outputId": "d3477dd2-fb67-4d82-8ee4-857748cdf3da"
      },
      "execution_count": null,
      "outputs": [
        {
          "name": "stdout",
          "output_type": "stream",
          "text": [
            "What's x?cta\n"
          ]
        },
        {
          "output_type": "error",
          "ename": "TypeError",
          "evalue": "can't multiply sequence by non-int of type 'str'",
          "traceback": [
            "\u001b[0;31m---------------------------------------------------------------------------\u001b[0m",
            "\u001b[0;31mTypeError\u001b[0m                                 Traceback (most recent call last)",
            "\u001b[0;32m/tmp/ipython-input-19-2216567422.py\u001b[0m in \u001b[0;36m<cell line: 0>\u001b[0;34m()\u001b[0m\n\u001b[1;32m      7\u001b[0m \u001b[0;34m\u001b[0m\u001b[0m\n\u001b[1;32m      8\u001b[0m \u001b[0;32mif\u001b[0m \u001b[0m__name__\u001b[0m \u001b[0;34m==\u001b[0m \u001b[0;34m\"__main__\"\u001b[0m\u001b[0;34m:\u001b[0m\u001b[0;34m\u001b[0m\u001b[0;34m\u001b[0m\u001b[0m\n\u001b[0;32m----> 9\u001b[0;31m      \u001b[0mmain\u001b[0m\u001b[0;34m(\u001b[0m\u001b[0;34m)\u001b[0m\u001b[0;34m\u001b[0m\u001b[0;34m\u001b[0m\u001b[0m\n\u001b[0m",
            "\u001b[0;32m/tmp/ipython-input-19-2216567422.py\u001b[0m in \u001b[0;36mmain\u001b[0;34m()\u001b[0m\n\u001b[1;32m      1\u001b[0m \u001b[0;32mdef\u001b[0m \u001b[0mmain\u001b[0m\u001b[0;34m(\u001b[0m\u001b[0;34m)\u001b[0m\u001b[0;34m:\u001b[0m\u001b[0;34m\u001b[0m\u001b[0;34m\u001b[0m\u001b[0m\n\u001b[1;32m      2\u001b[0m   \u001b[0mx\u001b[0m \u001b[0;34m=\u001b[0m \u001b[0;34m(\u001b[0m\u001b[0minput\u001b[0m\u001b[0;34m(\u001b[0m\u001b[0;34m\"What's x?\"\u001b[0m\u001b[0;34m)\u001b[0m\u001b[0;34m)\u001b[0m\u001b[0;34m\u001b[0m\u001b[0;34m\u001b[0m\u001b[0m\n\u001b[0;32m----> 3\u001b[0;31m   \u001b[0mprint\u001b[0m\u001b[0;34m(\u001b[0m\u001b[0;34m\"x squared is\"\u001b[0m\u001b[0;34m,\u001b[0m \u001b[0msquare\u001b[0m\u001b[0;34m(\u001b[0m\u001b[0mx\u001b[0m\u001b[0;34m)\u001b[0m\u001b[0;34m)\u001b[0m\u001b[0;34m\u001b[0m\u001b[0;34m\u001b[0m\u001b[0m\n\u001b[0m\u001b[1;32m      4\u001b[0m \u001b[0;34m\u001b[0m\u001b[0m\n\u001b[1;32m      5\u001b[0m \u001b[0;32mdef\u001b[0m \u001b[0msquare\u001b[0m\u001b[0;34m(\u001b[0m\u001b[0mn\u001b[0m\u001b[0;34m)\u001b[0m\u001b[0;34m:\u001b[0m\u001b[0;34m\u001b[0m\u001b[0;34m\u001b[0m\u001b[0m\n",
            "\u001b[0;32m/tmp/ipython-input-19-2216567422.py\u001b[0m in \u001b[0;36msquare\u001b[0;34m(n)\u001b[0m\n\u001b[1;32m      4\u001b[0m \u001b[0;34m\u001b[0m\u001b[0m\n\u001b[1;32m      5\u001b[0m \u001b[0;32mdef\u001b[0m \u001b[0msquare\u001b[0m\u001b[0;34m(\u001b[0m\u001b[0mn\u001b[0m\u001b[0;34m)\u001b[0m\u001b[0;34m:\u001b[0m\u001b[0;34m\u001b[0m\u001b[0;34m\u001b[0m\u001b[0m\n\u001b[0;32m----> 6\u001b[0;31m     \u001b[0;32mreturn\u001b[0m \u001b[0mn\u001b[0m \u001b[0;34m*\u001b[0m \u001b[0mn\u001b[0m\u001b[0;34m\u001b[0m\u001b[0;34m\u001b[0m\u001b[0m\n\u001b[0m\u001b[1;32m      7\u001b[0m \u001b[0;34m\u001b[0m\u001b[0m\n\u001b[1;32m      8\u001b[0m \u001b[0;32mif\u001b[0m \u001b[0m__name__\u001b[0m \u001b[0;34m==\u001b[0m \u001b[0;34m\"__main__\"\u001b[0m\u001b[0;34m:\u001b[0m\u001b[0;34m\u001b[0m\u001b[0;34m\u001b[0m\u001b[0m\n",
            "\u001b[0;31mTypeError\u001b[0m: can't multiply sequence by non-int of type 'str'"
          ]
        }
      ]
    },
    {
      "cell_type": "code",
      "source": [
        "# from calculator import square # This line caused the error\n",
        "\n",
        "def main():\n",
        "    test_square()\n",
        "\n",
        "def test_square():\n",
        "    if square(2) != 4:\n",
        "      print(\"2 squared was not 4\")\n",
        "    if square(3) != 9:\n",
        "      print (\"3 squared was not 9\")\n",
        "\n",
        "if __name__ == \"__main__\":\n",
        "     main()"
      ],
      "metadata": {
        "colab": {
          "base_uri": "https://localhost:8080/"
        },
        "id": "UOhwomDhVoJa",
        "outputId": "6ea911c9-c0e0-4450-dc9c-718d272a8e86"
      },
      "execution_count": null,
      "outputs": [
        {
          "output_type": "stream",
          "name": "stdout",
          "text": [
            "3 squared was not 9\n"
          ]
        }
      ]
    },
    {
      "cell_type": "markdown",
      "source": [
        "Assert"
      ],
      "metadata": {
        "id": "vmTj28HcQEDj"
      }
    },
    {
      "cell_type": "code",
      "source": [
        "def main():\n",
        "    test_square()\n",
        "\n",
        "def test_square():\n",
        "  try:\n",
        "      assert square(2) == 4\n",
        "  except AssertionError:\n",
        "      print(\"2 squared was not 4\")\n",
        "  try:\n",
        "      assert square(3) == 9\n",
        "  except AssertionError:\n",
        "      print(\"3 squared was not 9\")\n",
        "\n",
        "\n",
        "if __name__ == \"__main__\":\n",
        "     main()"
      ],
      "metadata": {
        "colab": {
          "base_uri": "https://localhost:8080/"
        },
        "id": "G4MCVliaPbvF",
        "outputId": "8a1c4398-fa6a-461e-b4c4-3c6796670128"
      },
      "execution_count": null,
      "outputs": [
        {
          "output_type": "stream",
          "name": "stdout",
          "text": [
            "3 squared was not 9\n"
          ]
        }
      ]
    },
    {
      "cell_type": "code",
      "source": [
        "def main():\n",
        "    test_square()\n",
        "\n",
        "def test_square():\n",
        "  try:\n",
        "      assert square(2) == 4\n",
        "  except AssertionError:\n",
        "      print(\"2 squared was not 4\")\n",
        "  try:\n",
        "      assert square(3) == 9\n",
        "  except AssertionError:\n",
        "      print(\"3 squared was not 9\")\n",
        "  try:\n",
        "      assert square(-2) == 4\n",
        "  except AssertionError:\n",
        "      print(\"-2 squared was not 4\")\n",
        "  try:\n",
        "      assert square(-3) == 9\n",
        "  except AssertionError:\n",
        "      print(\"-3 squared was not 9\")\n",
        "  try:\n",
        "      assert square(0) == 0\n",
        "  except AssertionError:\n",
        "      print(\"0 squared was not 0\")\n",
        "\n",
        "\n",
        "if __name__ == \"__main__\":\n",
        "     main()"
      ],
      "metadata": {
        "colab": {
          "base_uri": "https://localhost:8080/"
        },
        "id": "1pmC_95Ga7kb",
        "outputId": "fdc55721-7085-45e2-f5bd-09aa709e31e3"
      },
      "execution_count": null,
      "outputs": [
        {
          "output_type": "stream",
          "name": "stdout",
          "text": [
            "3 squared was not 9\n",
            "-2 squared was not 4\n",
            "-3 squared was not 9\n"
          ]
        }
      ]
    },
    {
      "cell_type": "markdown",
      "source": [
        "Pytest"
      ],
      "metadata": {
        "id": "s_gviygEc6am"
      }
    },
    {
      "cell_type": "code",
      "source": [
        "pip install pytest"
      ],
      "metadata": {
        "colab": {
          "base_uri": "https://localhost:8080/"
        },
        "id": "E4KL2-SleB3A",
        "outputId": "6ae4e243-bcb2-4306-d21a-3649a04fffdb"
      },
      "execution_count": null,
      "outputs": [
        {
          "output_type": "stream",
          "name": "stdout",
          "text": [
            "Requirement already satisfied: pytest in /usr/local/lib/python3.11/dist-packages (8.3.5)\n",
            "Requirement already satisfied: iniconfig in /usr/local/lib/python3.11/dist-packages (from pytest) (2.1.0)\n",
            "Requirement already satisfied: packaging in /usr/local/lib/python3.11/dist-packages (from pytest) (24.2)\n",
            "Requirement already satisfied: pluggy<2,>=1.5 in /usr/local/lib/python3.11/dist-packages (from pytest) (1.6.0)\n"
          ]
        }
      ]
    },
    {
      "cell_type": "code",
      "source": [
        "import pytest\n",
        "# Unit test- test for functions\n",
        "def main():\n",
        "     test_square()\n",
        "\n",
        "def test_positive():\n",
        "    assert square(2) == 4\n",
        "    assert square(3) == 9\n",
        "\n",
        "def test_negative():\n",
        "    assert square(-2) ==4\n",
        "    assert square(-3) ==9\n",
        "\n",
        "def test_zero():\n",
        "    assert square(0) == 0\n",
        "\n",
        "def test_str():\n",
        "    with pytest.raises(TypeError):\n",
        "        square(\"cat\")\n",
        "\n",
        "\n",
        "if __name__ == \"__main__\":\n",
        "     main()"
      ],
      "metadata": {
        "id": "8JT3cz27c5TU"
      },
      "execution_count": null,
      "outputs": []
    },
    {
      "cell_type": "markdown",
      "source": [
        "# File I/O"
      ],
      "metadata": {
        "id": "acGV03iK37bJ"
      }
    },
    {
      "cell_type": "code",
      "source": [
        "names = []\n",
        "for _ in range(3):\n",
        "    names.append(input(\"Whats your name?\"))\n",
        "\n",
        "for  name in sorted(names):\n",
        "  print(f\"hello, {name}\")\n",
        "\n"
      ],
      "metadata": {
        "id": "CVybof80eAK2",
        "colab": {
          "base_uri": "https://localhost:8080/"
        },
        "outputId": "c64131ea-0672-47a3-8440-d160ae8880d6"
      },
      "execution_count": null,
      "outputs": [
        {
          "output_type": "stream",
          "name": "stdout",
          "text": [
            "Whats your name?Joseph\n",
            "Whats your name?Arthur\n",
            "Whats your name?Kamau\n",
            "hello, Arthur\n",
            "hello, Joseph\n",
            "hello, Kamau\n"
          ]
        }
      ]
    },
    {
      "cell_type": "code",
      "source": [
        "name = input(\"What's your name?\")\n",
        "file = open(\"names.txt\", \"a\")\n",
        "file.write(f\"{name}\\n\")\n",
        "file.close()"
      ],
      "metadata": {
        "id": "uvOc0vt-MCWp",
        "colab": {
          "base_uri": "https://localhost:8080/"
        },
        "outputId": "df0777af-38e0-49ac-951b-92145f5777a5"
      },
      "execution_count": null,
      "outputs": [
        {
          "name": "stdout",
          "output_type": "stream",
          "text": [
            "What's your name?Joseph\n"
          ]
        }
      ]
    },
    {
      "cell_type": "code",
      "source": [
        "name = input(\"What's your name?\")\n",
        "with open(\"names.txt\", \"a\") as file:\n",
        "    file.write(f\"{name}\\n\")"
      ],
      "metadata": {
        "colab": {
          "base_uri": "https://localhost:8080/"
        },
        "id": "m7nqskj3BvHP",
        "outputId": "18a6fc8f-90e2-42e7-e2f5-1964590ef1e5"
      },
      "execution_count": null,
      "outputs": [
        {
          "name": "stdout",
          "output_type": "stream",
          "text": [
            "What's your name?Kenaya\n"
          ]
        }
      ]
    },
    {
      "cell_type": "code",
      "source": [
        "with open(\"names.txt\", \"r\") as fle:\n",
        "  lines = file.readlines()\n",
        "\n",
        "for line in lines:\n",
        "    print(\"hello,\", line.rstrip())"
      ],
      "metadata": {
        "colab": {
          "base_uri": "https://localhost:8080/",
          "height": 211
        },
        "id": "sv2zDvCfCiYK",
        "outputId": "c010be6a-a70d-4b33-806a-707d5fab4e28"
      },
      "execution_count": null,
      "outputs": [
        {
          "output_type": "error",
          "ename": "ValueError",
          "evalue": "I/O operation on closed file.",
          "traceback": [
            "\u001b[0;31m---------------------------------------------------------------------------\u001b[0m",
            "\u001b[0;31mValueError\u001b[0m                                Traceback (most recent call last)",
            "\u001b[0;32m/tmp/ipython-input-41-1057154219.py\u001b[0m in \u001b[0;36m<cell line: 0>\u001b[0;34m()\u001b[0m\n\u001b[1;32m      1\u001b[0m \u001b[0;32mwith\u001b[0m \u001b[0mopen\u001b[0m\u001b[0;34m(\u001b[0m\u001b[0;34m\"names.txt\"\u001b[0m\u001b[0;34m,\u001b[0m \u001b[0;34m\"r\"\u001b[0m\u001b[0;34m)\u001b[0m \u001b[0;32mas\u001b[0m \u001b[0mfle\u001b[0m\u001b[0;34m:\u001b[0m\u001b[0;34m\u001b[0m\u001b[0;34m\u001b[0m\u001b[0m\n\u001b[0;32m----> 2\u001b[0;31m   \u001b[0mlines\u001b[0m \u001b[0;34m=\u001b[0m \u001b[0mfile\u001b[0m\u001b[0;34m.\u001b[0m\u001b[0mreadlines\u001b[0m\u001b[0;34m(\u001b[0m\u001b[0;34m)\u001b[0m\u001b[0;34m\u001b[0m\u001b[0;34m\u001b[0m\u001b[0m\n\u001b[0m\u001b[1;32m      3\u001b[0m \u001b[0;34m\u001b[0m\u001b[0m\n\u001b[1;32m      4\u001b[0m \u001b[0;32mfor\u001b[0m \u001b[0mline\u001b[0m \u001b[0;32min\u001b[0m \u001b[0mlines\u001b[0m\u001b[0;34m:\u001b[0m\u001b[0;34m\u001b[0m\u001b[0;34m\u001b[0m\u001b[0m\n\u001b[1;32m      5\u001b[0m     \u001b[0mprint\u001b[0m\u001b[0;34m(\u001b[0m\u001b[0;34m\"hello,\"\u001b[0m\u001b[0;34m,\u001b[0m \u001b[0mline\u001b[0m\u001b[0;34m.\u001b[0m\u001b[0mrstrip\u001b[0m\u001b[0;34m(\u001b[0m\u001b[0;34m)\u001b[0m\u001b[0;34m)\u001b[0m\u001b[0;34m\u001b[0m\u001b[0;34m\u001b[0m\u001b[0m\n",
            "\u001b[0;31mValueError\u001b[0m: I/O operation on closed file."
          ]
        }
      ]
    },
    {
      "cell_type": "code",
      "metadata": {
        "colab": {
          "base_uri": "https://localhost:8080/"
        },
        "id": "f7c19f67",
        "outputId": "7d076410-dfc5-4619-c326-b19179273d4d"
      },
      "source": [
        "# Open the file in read mode\n",
        "file = open(\"names.txt\", \"r\")\n",
        "\n",
        "# Read the content of the file\n",
        "content = file.read()\n",
        "\n",
        "# Print the content\n",
        "print(content)\n",
        "\n",
        "# Close the file\n",
        "file.close()"
      ],
      "execution_count": null,
      "outputs": [
        {
          "output_type": "stream",
          "name": "stdout",
          "text": [
            "\n",
            "Arthur\n",
            "Joe\n",
            "Kamau\n",
            "Kenaya\n",
            "\n"
          ]
        }
      ]
    },
    {
      "cell_type": "code",
      "source": [
        "with open(\"names.txt\", \"r\") as fle:\n",
        "  lines = file.readlines()\n",
        "\n",
        "for line in lines:\n",
        "    print(\"hello,\", line.rstrip())"
      ],
      "metadata": {
        "colab": {
          "base_uri": "https://localhost:8080/",
          "height": 211
        },
        "id": "4A63JLZ-Box0",
        "outputId": "69a32b10-82ce-44b7-9e9c-c1a0c1e65d96"
      },
      "execution_count": null,
      "outputs": [
        {
          "output_type": "error",
          "ename": "ValueError",
          "evalue": "I/O operation on closed file.",
          "traceback": [
            "\u001b[0;31m---------------------------------------------------------------------------\u001b[0m",
            "\u001b[0;31mValueError\u001b[0m                                Traceback (most recent call last)",
            "\u001b[0;32m/tmp/ipython-input-42-1057154219.py\u001b[0m in \u001b[0;36m<cell line: 0>\u001b[0;34m()\u001b[0m\n\u001b[1;32m      1\u001b[0m \u001b[0;32mwith\u001b[0m \u001b[0mopen\u001b[0m\u001b[0;34m(\u001b[0m\u001b[0;34m\"names.txt\"\u001b[0m\u001b[0;34m,\u001b[0m \u001b[0;34m\"r\"\u001b[0m\u001b[0;34m)\u001b[0m \u001b[0;32mas\u001b[0m \u001b[0mfle\u001b[0m\u001b[0;34m:\u001b[0m\u001b[0;34m\u001b[0m\u001b[0;34m\u001b[0m\u001b[0m\n\u001b[0;32m----> 2\u001b[0;31m   \u001b[0mlines\u001b[0m \u001b[0;34m=\u001b[0m \u001b[0mfile\u001b[0m\u001b[0;34m.\u001b[0m\u001b[0mreadlines\u001b[0m\u001b[0;34m(\u001b[0m\u001b[0;34m)\u001b[0m\u001b[0;34m\u001b[0m\u001b[0;34m\u001b[0m\u001b[0m\n\u001b[0m\u001b[1;32m      3\u001b[0m \u001b[0;34m\u001b[0m\u001b[0m\n\u001b[1;32m      4\u001b[0m \u001b[0;32mfor\u001b[0m \u001b[0mline\u001b[0m \u001b[0;32min\u001b[0m \u001b[0mlines\u001b[0m\u001b[0;34m:\u001b[0m\u001b[0;34m\u001b[0m\u001b[0;34m\u001b[0m\u001b[0m\n\u001b[1;32m      5\u001b[0m     \u001b[0mprint\u001b[0m\u001b[0;34m(\u001b[0m\u001b[0;34m\"hello,\"\u001b[0m\u001b[0;34m,\u001b[0m \u001b[0mline\u001b[0m\u001b[0;34m.\u001b[0m\u001b[0mrstrip\u001b[0m\u001b[0;34m(\u001b[0m\u001b[0;34m)\u001b[0m\u001b[0;34m)\u001b[0m\u001b[0;34m\u001b[0m\u001b[0;34m\u001b[0m\u001b[0m\n",
            "\u001b[0;31mValueError\u001b[0m: I/O operation on closed file."
          ]
        }
      ]
    },
    {
      "cell_type": "code",
      "source": [
        "x = [15, 10, 2, 84] + [1,4,8,7,9]\n",
        "x.index(x.count(x[0]))"
      ],
      "metadata": {
        "id": "2JhyCog_DwIQ",
        "colab": {
          "base_uri": "https://localhost:8080/"
        },
        "outputId": "f8263c0a-67e4-4f09-d993-f8ec4a0cd72a"
      },
      "execution_count": null,
      "outputs": [
        {
          "output_type": "execute_result",
          "data": {
            "text/plain": [
              "4"
            ]
          },
          "metadata": {},
          "execution_count": 1
        }
      ]
    },
    {
      "cell_type": "code",
      "source": [
        "x = [15, 10, 2, 84] + [1,4,8,7,9]\n",
        "x"
      ],
      "metadata": {
        "colab": {
          "base_uri": "https://localhost:8080/"
        },
        "id": "mD3_kGnDxJvA",
        "outputId": "cde675d4-f09b-42a8-bcd3-2f311b79e6ee"
      },
      "execution_count": null,
      "outputs": [
        {
          "output_type": "execute_result",
          "data": {
            "text/plain": [
              "[15, 10, 2, 84, 1, 4, 8, 7, 9]"
            ]
          },
          "metadata": {},
          "execution_count": 2
        }
      ]
    },
    {
      "cell_type": "code",
      "source": [
        "x[0]"
      ],
      "metadata": {
        "colab": {
          "base_uri": "https://localhost:8080/"
        },
        "id": "0W_-KXF1xM0x",
        "outputId": "af1aa886-ac74-467b-a7a9-a366cd127eef"
      },
      "execution_count": null,
      "outputs": [
        {
          "output_type": "execute_result",
          "data": {
            "text/plain": [
              "15"
            ]
          },
          "metadata": {},
          "execution_count": 3
        }
      ]
    },
    {
      "cell_type": "code",
      "source": [
        "x.count(15)"
      ],
      "metadata": {
        "colab": {
          "base_uri": "https://localhost:8080/"
        },
        "id": "WoK8k-sFxUgx",
        "outputId": "9b6c8914-0f92-4d73-e3aa-3c5417b38a1b"
      },
      "execution_count": null,
      "outputs": [
        {
          "output_type": "execute_result",
          "data": {
            "text/plain": [
              "1"
            ]
          },
          "metadata": {},
          "execution_count": 4
        }
      ]
    },
    {
      "cell_type": "code",
      "source": [
        "x.index(1)"
      ],
      "metadata": {
        "colab": {
          "base_uri": "https://localhost:8080/"
        },
        "id": "kKKQ_M03xaWR",
        "outputId": "2ad624d4-a527-4461-a57f-cecce055f4f2"
      },
      "execution_count": null,
      "outputs": [
        {
          "output_type": "execute_result",
          "data": {
            "text/plain": [
              "4"
            ]
          },
          "metadata": {},
          "execution_count": 5
        }
      ]
    },
    {
      "cell_type": "code",
      "source": [
        "q = [37, 26, 0, 30, 21, 11]\n",
        "print(len(q))"
      ],
      "metadata": {
        "colab": {
          "base_uri": "https://localhost:8080/"
        },
        "id": "DcHSpq6Cxfws",
        "outputId": "82c55c46-47ba-45b5-9a7d-d691edf13437"
      },
      "execution_count": null,
      "outputs": [
        {
          "output_type": "stream",
          "name": "stdout",
          "text": [
            "6\n"
          ]
        }
      ]
    },
    {
      "cell_type": "code",
      "source": [
        "import numpy as np\n",
        "np.array([True, 1, 2]) + np.array([3, 4, False])"
      ],
      "metadata": {
        "colab": {
          "base_uri": "https://localhost:8080/"
        },
        "id": "NQCH0yEhx5Vp",
        "outputId": "b60939ec-f925-441c-eda5-4dfa71fd5fc5"
      },
      "execution_count": null,
      "outputs": [
        {
          "output_type": "execute_result",
          "data": {
            "text/plain": [
              "array([4, 5, 2])"
            ]
          },
          "metadata": {},
          "execution_count": 7
        }
      ]
    },
    {
      "cell_type": "code",
      "source": [
        "x = 8\n",
        "y = 9\n",
        "not(not(x < 3) and not(y > 14 or y > 10))"
      ],
      "metadata": {
        "id": "JGF_RRu02s9p",
        "colab": {
          "base_uri": "https://localhost:8080/"
        },
        "outputId": "f7985004-5261-4df2-8244-30b3e25498f9"
      },
      "execution_count": null,
      "outputs": [
        {
          "output_type": "execute_result",
          "data": {
            "text/plain": [
              "False"
            ]
          },
          "metadata": {},
          "execution_count": 1
        }
      ]
    },
    {
      "cell_type": "code",
      "source": [
        "x = 3\n",
        "if x % 2 == 0:\n",
        "  print(\"x is divisible by 2\")\n",
        "elif x % 3 == 0:\n",
        "  print(\"x is divisible by 3\")\n",
        "elif x % 4 == 0:\n",
        "  prnt(\"x is divisible by 4\")\n",
        "else:\n",
        "  print(\"x is neither divisible by 2 nor by 3\")"
      ],
      "metadata": {
        "colab": {
          "base_uri": "https://localhost:8080/"
        },
        "id": "DuNd-beRHI1i",
        "outputId": "0eed2ab5-3f9e-4357-9b71-647f7ab28bce"
      },
      "execution_count": null,
      "outputs": [
        {
          "output_type": "stream",
          "name": "stdout",
          "text": [
            "x is divisible by 3\n"
          ]
        }
      ]
    },
    {
      "cell_type": "markdown",
      "source": [],
      "metadata": {
        "id": "zw1xEoUiHIkU"
      }
    },
    {
      "cell_type": "code",
      "source": [
        "x = 1\n",
        "while x < 4:\n",
        "  print(x)\n",
        "  x = x + 1"
      ],
      "metadata": {
        "colab": {
          "base_uri": "https://localhost:8080/"
        },
        "id": "fJlSA3ajMvgB",
        "outputId": "68420637-0b92-4968-9556-570047a7eb2a"
      },
      "execution_count": null,
      "outputs": [
        {
          "output_type": "stream",
          "name": "stdout",
          "text": [
            "1\n",
            "2\n",
            "3\n"
          ]
        }
      ]
    },
    {
      "cell_type": "code",
      "source": [
        "error = 50\n",
        "while error > 1:\n",
        "  error = error/4\n",
        "  print (error)"
      ],
      "metadata": {
        "colab": {
          "base_uri": "https://localhost:8080/"
        },
        "id": "Uy_c4RjpNXPS",
        "outputId": "53f66b3b-85cd-448c-d76d-82212f801e52"
      },
      "execution_count": null,
      "outputs": [
        {
          "output_type": "stream",
          "name": "stdout",
          "text": [
            "12.5\n",
            "3.125\n",
            "0.78125\n"
          ]
        }
      ]
    },
    {
      "cell_type": "code",
      "source": [
        "# Initialize offset\n",
        "offset = -6\n",
        "\n",
        "# Code the while loop\n",
        "while offset != 0 :\n",
        "    print(\"correcting...\")\n",
        "    if offset > 0 :\n",
        "      offset = offset -1\n",
        "    else :\n",
        "      offset = offset + 1\n",
        "    print(offset)"
      ],
      "metadata": {
        "colab": {
          "base_uri": "https://localhost:8080/"
        },
        "id": "0fVDWT3jOplh",
        "outputId": "2324f597-e5ff-41e2-c05b-62a950777ccb"
      },
      "execution_count": null,
      "outputs": [
        {
          "output_type": "stream",
          "name": "stdout",
          "text": [
            "correcting...\n",
            "-5\n",
            "correcting...\n",
            "-4\n",
            "correcting...\n",
            "-3\n",
            "correcting...\n",
            "-2\n",
            "correcting...\n",
            "-1\n",
            "correcting...\n",
            "0\n"
          ]
        }
      ]
    },
    {
      "cell_type": "code",
      "source": [
        "fam = [1.73, 1.68, 1.71, 1.89]\n",
        "for index, height in enumerate(fam) :\n",
        "    print(\"index \" + str(index + 1) + \": \" + str(height))"
      ],
      "metadata": {
        "colab": {
          "base_uri": "https://localhost:8080/"
        },
        "id": "vNjBw-UwZmuV",
        "outputId": "ba732b38-d61f-4db4-eda2-a492ae8a9084"
      },
      "execution_count": null,
      "outputs": [
        {
          "output_type": "stream",
          "name": "stdout",
          "text": [
            "index 1: 1.73\n",
            "index 2: 1.68\n",
            "index 3: 1.71\n",
            "index 4: 1.89\n"
          ]
        }
      ]
    },
    {
      "cell_type": "code",
      "source": [
        "house = [[\"hallway\", 11.25],\n",
        "         [\"kitchen\", 18.0],\n",
        "         [\"living room\", 20.0],\n",
        "         [\"bedroom\", 10.75],\n",
        "         [\"bathroom\", 9.50]]\n"
      ],
      "metadata": {
        "id": "inmJYiOEZl1c"
      },
      "execution_count": null,
      "outputs": []
    },
    {
      "cell_type": "code",
      "source": [
        "for x in house:\n",
        "  print(\"the \" + x[0] + \"is\" + str(x[1]) + \" sqm\")"
      ],
      "metadata": {
        "colab": {
          "base_uri": "https://localhost:8080/"
        },
        "id": "hjj746dmdet-",
        "outputId": "50537dae-d8e0-488f-97e0-7a84a0172916"
      },
      "execution_count": null,
      "outputs": [
        {
          "output_type": "stream",
          "name": "stdout",
          "text": [
            "the hallwayis11.25 sqm\n",
            "the kitchenis18.0 sqm\n",
            "the living roomis20.0 sqm\n",
            "the bedroomis10.75 sqm\n",
            "the bathroomis9.5 sqm\n"
          ]
        }
      ]
    },
    {
      "cell_type": "code",
      "source": [
        "for area, room in enumerate(house):\n",
        "  print(\"the \" + room[0] + \" is \" + str(room[1]) + \" sqm\")"
      ],
      "metadata": {
        "colab": {
          "base_uri": "https://localhost:8080/"
        },
        "id": "ZE7H0shleQf9",
        "outputId": "ddb1ce8e-689a-45e5-8aaa-0465270d223e"
      },
      "execution_count": null,
      "outputs": [
        {
          "output_type": "stream",
          "name": "stdout",
          "text": [
            "the hallway is 11.25 sqm\n",
            "the kitchen is 18.0 sqm\n",
            "the living room is 20.0 sqm\n",
            "the bedroom is 10.75 sqm\n",
            "the bathroom is 9.5 sqm\n"
          ]
        }
      ]
    },
    {
      "cell_type": "code",
      "source": [
        "print(\"joseph\".upper())"
      ],
      "metadata": {
        "colab": {
          "base_uri": "https://localhost:8080/"
        },
        "id": "U2zlOMTd5ZGH",
        "outputId": "db0cfe9d-516e-49fa-b5b9-9cdd574a0f98"
      },
      "execution_count": null,
      "outputs": [
        {
          "output_type": "stream",
          "name": "stdout",
          "text": [
            "JOSEPH\n"
          ]
        }
      ]
    },
    {
      "cell_type": "code",
      "source": [
        "import numpy as np"
      ],
      "metadata": {
        "id": "0VUujyT05auy"
      },
      "execution_count": null,
      "outputs": []
    },
    {
      "cell_type": "code",
      "source": [
        "np.random.seed(123)\n",
        "coin = np.random.randint(0,2)\n",
        "print(coin)\n",
        "if coin == 0:\n",
        "  print(\"heads\")\n",
        "if coin == 1:\n",
        "  print(\"tails\")"
      ],
      "metadata": {
        "colab": {
          "base_uri": "https://localhost:8080/"
        },
        "id": "AYsHMfx-Bh8q",
        "outputId": "57b43fe1-fbdc-419e-a55c-a468e5e7758f"
      },
      "execution_count": null,
      "outputs": [
        {
          "output_type": "stream",
          "name": "stdout",
          "text": [
            "0\n",
            "heads\n"
          ]
        }
      ]
    },
    {
      "cell_type": "code",
      "source": [
        "np.random.rand()"
      ],
      "metadata": {
        "colab": {
          "base_uri": "https://localhost:8080/"
        },
        "id": "r769MAxwB30Q",
        "outputId": "4af4e167-03e7-452f-99bf-8bbc7749f252"
      },
      "execution_count": null,
      "outputs": [
        {
          "output_type": "execute_result",
          "data": {
            "text/plain": [
              "0.7364934554396919"
            ]
          },
          "metadata": {},
          "execution_count": 10
        }
      ]
    },
    {
      "cell_type": "code",
      "source": [
        "import numpy as np\n",
        "np.random.seed(123)\n",
        "outcomes = []\n",
        "for x in range(10):\n",
        "  coin = np.random.randint(0, 2)\n",
        "  if coin == 0:\n",
        "    outcomes.append(\"heads\")\n",
        "  else:\n",
        "    outcomes.append(\"tails\")\n",
        "print(outcomes)"
      ],
      "metadata": {
        "colab": {
          "base_uri": "https://localhost:8080/"
        },
        "id": "YqGC_JaaB9J3",
        "outputId": "dba19596-4438-4bec-9818-1cd2326b5325"
      },
      "execution_count": null,
      "outputs": [
        {
          "output_type": "stream",
          "name": "stdout",
          "text": [
            "['heads', 'tails', 'heads', 'heads', 'heads', 'heads', 'heads', 'tails', 'tails', 'heads']\n"
          ]
        }
      ]
    },
    {
      "cell_type": "code",
      "source": [
        "np.random.seed(123)\n",
        "tails = [0]\n",
        "for x in range(10):\n",
        "  coin = np.random.randint(0, 2)\n",
        "  tails.append(tails[x] + coin)\n",
        "print(tails)\n",
        "\n"
      ],
      "metadata": {
        "colab": {
          "base_uri": "https://localhost:8080/"
        },
        "id": "NIxWKfkRJCWI",
        "outputId": "c7a7d7ff-c236-4c96-b26f-30eb1cec8a1b"
      },
      "execution_count": null,
      "outputs": [
        {
          "output_type": "stream",
          "name": "stdout",
          "text": [
            "[0, 0, 1, 1, 1, 1, 1, 1, 2, 3, 3]\n"
          ]
        }
      ]
    },
    {
      "cell_type": "code",
      "source": [
        "np.random.seed(123)\n",
        "final_tails = []\n",
        "for x in range(100):\n",
        "  tails = [0]\n",
        "  for x in range(10):\n",
        "    coin = np.random.randint(0, 2)\n",
        "    tails.append(tails[x] + coin)\n",
        "  final_tails.append(tails[-1])\n",
        "print(final_tails)"
      ],
      "metadata": {
        "colab": {
          "base_uri": "https://localhost:8080/"
        },
        "id": "iI2dvjekOuE7",
        "outputId": "ef9a1b54-a037-46d5-ca45-b9eed0fedb07"
      },
      "execution_count": null,
      "outputs": [
        {
          "output_type": "stream",
          "name": "stdout",
          "text": [
            "[3, 6, 4, 5, 4, 5, 3, 5, 4, 6, 6, 8, 6, 4, 7, 5, 7, 4, 3, 3, 4, 5, 8, 5, 6, 5, 7, 6, 4, 5, 8, 5, 8, 4, 6, 6, 3, 4, 5, 4, 7, 8, 9, 4, 3, 4, 5, 6, 4, 2, 6, 6, 5, 7, 5, 4, 5, 5, 6, 7, 6, 6, 6, 3, 6, 3, 6, 5, 6, 5, 6, 4, 6, 6, 3, 4, 4, 2, 4, 5, 4, 6, 6, 6, 8, 4, 6, 5, 7, 4, 6, 5, 4, 6, 7, 3, 7, 4, 5, 7]\n"
          ]
        }
      ]
    }
  ]
}